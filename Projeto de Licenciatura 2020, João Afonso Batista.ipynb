{
 "cells": [
  {
   "cell_type": "markdown",
   "metadata": {},
   "source": [
    "This is the implementation of the algorith described in the report by João Afonso Batista.\n",
    "\n",
    "I will shortly explain the notation used and how to utilize it for your own benefit.\n",
    "\n",
    "every formula is a string where its variables are \"V(0)\",\"V(1)\",\"V(2)\"... and its connectives must have only one letter.\n",
    "example:\n",
    "\n",
    "\"I(O(V(0),V(1)),V(2))\" is the implication between x or y, and z. where x, y, z are variables.\n",
    "\n",
    "I think that a quick obvervation of the examples laid down, starting with the simple hilbert calculus will be enough to make one able to use the algorithm.\n",
    "\n",
    "Some notes:\n",
    "The algorithm has both  syntatic and semantics integrated in it. The derivation is made with the inference rules, as explained in the report. In the case there is no derivation, the algorithm uses the semantic part to produce a valuation that works as a counter-model.\n",
    "\n",
    "You don't have to input the semantic part of the algorithm, in which case the algorithm simply says that no derivation was found (if that is the case.)"
   ]
  },
  {
   "cell_type": "code",
   "execution_count": 1,
   "metadata": {},
   "outputs": [],
   "source": [
    "import random\n",
    "import time\n",
    "from graphviz import *"
   ]
  },
  {
   "cell_type": "code",
   "execution_count": 2,
   "metadata": {},
   "outputs": [],
   "source": [
    "def is_int(s):\n",
    "    try: \n",
    "        int(s)\n",
    "        return True\n",
    "    except ValueError:\n",
    "        return False"
   ]
  },
  {
   "cell_type": "code",
   "execution_count": 3,
   "metadata": {},
   "outputs": [],
   "source": [
    "def unique(lis): #função que, dada uma lista, devolve a mesma lista sem elementos duplicados.\n",
    "    r = []\n",
    "    for i in lis:\n",
    "        if i in r:\n",
    "            pass\n",
    "        else:\n",
    "            r += [i]\n",
    "    return r"
   ]
  },
  {
   "cell_type": "code",
   "execution_count": 4,
   "metadata": {},
   "outputs": [
    {
     "data": {
      "text/plain": [
       "[1, 2, 3, 4]"
      ]
     },
     "execution_count": 4,
     "metadata": {},
     "output_type": "execute_result"
    }
   ],
   "source": [
    "unique([1,2,3,1,2,4,])"
   ]
  },
  {
   "cell_type": "code",
   "execution_count": 5,
   "metadata": {},
   "outputs": [],
   "source": [
    "def flatten(lis): #dada uma lista de listas, devolve uma lista com os elementos das listas pequenas\n",
    "    r = []\n",
    "    for i in lis:\n",
    "        r = r + i\n",
    "    return unique(r)"
   ]
  },
  {
   "cell_type": "code",
   "execution_count": 6,
   "metadata": {},
   "outputs": [
    {
     "data": {
      "text/plain": [
       "[1, 2, 3, 4, 5, 6, 7, 8, 9]"
      ]
     },
     "execution_count": 6,
     "metadata": {},
     "output_type": "execute_result"
    }
   ],
   "source": [
    "flatten([[1,2,3],[4,5,6],[7,8,9],[3,6,9]])"
   ]
  },
  {
   "cell_type": "code",
   "execution_count": 7,
   "metadata": {},
   "outputs": [],
   "source": [
    "def subformaux(formula,conet): #função que, dada uma formula, devolve todas as subformulas. \n",
    "                            #conet é a lista com os simbolos usados para os conetores\n",
    "                            #programa so funciona se os conetores forem apenas com 1 caracter de comprimento\n",
    "                            #e o mesmo para as variaveis. representam-se como V(0),V(1),V(2)...\n",
    "    \n",
    "    simbolos = conet    \n",
    "    form = formula\n",
    "    \n",
    "    r = []\n",
    "\n",
    "    if form[0] in simbolos: \n",
    "        #significa que o primeiro simbolo é um conetor, ou seja, dentro dele conseguimos encontrar subformulas\n",
    "\n",
    "        abertos = 0 #numero de parentesis abertos. a ideia é que as vírgulas importantes para este conetor aparecem quando\n",
    "                    #há apenas 1 parentesis abertos a mais que o numero de parentesis fechados\n",
    "            \n",
    "        virgula = 1 #o método das virgulas só funciona para aridades maiores que 1.\n",
    "        \n",
    "        for i in range(len(form)):\n",
    "            \n",
    "            if form[i] == \"(\":\n",
    "                abertos += 1\n",
    "                \n",
    "            elif form[i] == \")\":\n",
    "                abertos -= 1\n",
    "                \n",
    "            elif form[i] == \",\" and abertos == 1:\n",
    "                \n",
    "                r += subform(form[virgula+1:i],conet)\n",
    "                \n",
    "                virgula = i\n",
    "                \n",
    "        if virgula == 2: #este é o caso em que o conetor é de aridade 1 ou 0:\n",
    "            aux = form[2:-1] #aux é o que \"esta dentro\" dos parenteses deste conetor\n",
    "            \n",
    "            if aux == \"\": #se aux é vazio, significa que estamos no caso de aridade 0:\n",
    "                pass\n",
    "                \n",
    "            else: #se nao, estamos no caso de aridade 1\n",
    "                r += subform(form[2:-1],conet)\n",
    "                \n",
    "        else:\n",
    "            r += subform(form[virgula+1:-1],conet) #se estamos num caso de aridade maior que 1, falta contar com as subformulas\n",
    "                                                   #que estao depois da \"ultima\" virgula\n",
    "        return r + [form]\n",
    "                    \n",
    "    else:\n",
    "        return r + [form]"
   ]
  },
  {
   "cell_type": "code",
   "execution_count": 8,
   "metadata": {},
   "outputs": [],
   "source": [
    "def subform(formula, conet):\n",
    "    return unique(subformaux(formula,conet))"
   ]
  },
  {
   "cell_type": "code",
   "execution_count": 9,
   "metadata": {},
   "outputs": [
    {
     "data": {
      "text/plain": [
       "['V(0)',\n",
       " 'V(1)',\n",
       " 'C(V(0))',\n",
       " 'A(V(1),C(V(0)))',\n",
       " 'V(2)',\n",
       " 'C(V(2))',\n",
       " 'B(V(0),A(V(1),C(V(0))),C(V(2)))',\n",
       " 'C(V(1))',\n",
       " 'A(B(V(0),A(V(1),C(V(0))),C(V(2))),C(V(1)))']"
      ]
     },
     "execution_count": 9,
     "metadata": {},
     "output_type": "execute_result"
    }
   ],
   "source": [
    "subform(\"A(B(V(0),A(V(1),C(V(0))),C(V(2))),C(V(1)))\",[\"A\",\"B\",\"C\"])"
   ]
  },
  {
   "cell_type": "code",
   "execution_count": 10,
   "metadata": {},
   "outputs": [],
   "source": [
    "def substituir_variaveis(formula,lis):\n",
    "    #esta funcao recebe uma formula e uma lista de subtituição da forma exemplo:\n",
    "    #[[\"V(0)\",\"E(V(0),V(1))\"],[\"V(1)\",\"V(0)\"],[\"V(2)\",\"I(V(1),V(0))\"]]\n",
    "    #e faz as substituiçoes da formula, substituindo todas as  variaveis \"V(0)\", por, neste caso, \"E(V(0),V(1))\",\n",
    "    #todas as variaveis \"V(1)\" por, neste caso, \"V(0)\" and so on...\n",
    "    \n",
    "    r = \"\"\n",
    "    j = 0\n",
    "    for i in range(len(formula)-3): #vamos construir a nova formula\n",
    "        \n",
    "        if formula[i:i+4] in [i[0] for i in lis]: #significa que encontramos algo que temos que substituir\n",
    "            \n",
    "            r += formula[j:i]\n",
    "            j = i+4\n",
    "            \n",
    "            indice = [k for k in range(len(lis)) if formula[i:i+4]==lis[k][0]][0] #entender que variavel encontramos\n",
    "            \n",
    "            r += lis[indice][1] #encaixar na variavel o que queremos substituir\n",
    "    \n",
    "    r += formula[j:]\n",
    "    \n",
    "    return r"
   ]
  },
  {
   "cell_type": "code",
   "execution_count": 11,
   "metadata": {},
   "outputs": [
    {
     "data": {
      "text/plain": [
       "'I(I(V(0),V(1)),N(V(0)))'"
      ]
     },
     "execution_count": 11,
     "metadata": {},
     "output_type": "execute_result"
    }
   ],
   "source": [
    "substituir_variaveis(\"I(V(0),N(V(1)))\",[[\"V(0)\",\"I(V(0),V(1))\"],[\"V(1)\",\"V(0)\"]])"
   ]
  },
  {
   "cell_type": "code",
   "execution_count": 12,
   "metadata": {},
   "outputs": [],
   "source": [
    "class inferencia:#classe para regras de inferencia\n",
    "    \n",
    "    def __init__(self,lis1,lis2,lis3):\n",
    "        #cada regra é uma lista com 3 listas, a primeira com as premissas, a segunda com as conclusoes. \n",
    "        #a terceira é uma lista com as variaveis que aparecem na regra. esta informaçao vai ser importante\n",
    "        #para fazer todas as possiveis intanciaçoes da regra\n",
    "        \n",
    "        self.premissas = lis1\n",
    "        self.conclusoes = lis2\n",
    "        self.variaveis = lis3\n",
    "        self.numero_variaveis = len(lis3)\n",
    "        \n",
    "    def concretiza(self,lis): \n",
    "        #esta funçao devolve uma concretização desta regra segundo a lista de subtituição lis:\n",
    "        #[[\"V(0)\",\"E(V(0),V(1))\"],[\"V(1)\",\"V(0)\"],[\"V(2)\",\"I(V(1),V(0))\"]]\n",
    "        #e faz as substituiçoes da formula, substituindo todas as  variaveis \"V(0)\", por, neste caso, \"E(V(0),V(1))\",\n",
    "        #todas as variaveis \"V(1)\" por, neste caso, \"V(0)\" and so on...\n",
    "        \n",
    "        r = [[], []]\n",
    "        for i in self.premissas:\n",
    "            r[0] += [substituir_variaveis(i,lis)]\n",
    "        \n",
    "        for i in self.conclusoes:\n",
    "            r[1] += [substituir_variaveis(i,lis)]\n",
    "        \n",
    "        return r #notar que uma regra instanciada é apenas uma lista com duas listas, as premissas e as conclusoes."
   ]
  },
  {
   "cell_type": "code",
   "execution_count": 13,
   "metadata": {},
   "outputs": [],
   "source": [
    "class logica:\n",
    "    def __init__(self,simbolos,aridades,separador):\n",
    "\n",
    "        self.regras_inferencia = []\n",
    "        \n",
    "        self.separador = separador #separador é uma lista de formulas. era suposto chamar-se discriminator mas pronto.\n",
    "        \n",
    "        self.simbolos = simbolos #lista com os simbolos dos conetores.\n",
    "        \n",
    "        self.aridades = aridades\n",
    "        \n",
    "    def adiciona_regra_inferencia(self,lis1,lis2,lis3):\n",
    "        #função para adicionar regras de inferencia a este calculo\n",
    "        self.regras_inferencia += [inferencia(lis1,lis2,lis3)]\n",
    "        \n",
    "    def adiciona_atribuiçoes(self,atribuiçoes):\n",
    "        self.atribuiçoes = atribuiçoes\n",
    "        \n",
    "    def adiciona_valores_de_verdade(self,valores, designados):\n",
    "        self.valores_verdade = valores\n",
    "        self.designados = designados\n",
    "\n",
    "        \n",
    "    def espaço_subformulas(self,premissas,conclusoes):\n",
    "        #esta funcao calcula todas as subformulas das premissas ou das conclusoes\n",
    "        \n",
    "        espaço_subformulas = flatten([subform(j,self.simbolos) for j in (premissas + conclusoes)])\n",
    "          \n",
    "        return espaço_subformulas    \n",
    "    \n",
    "    \n",
    "    def espaço_regras(self,premissa,conclusoes,espaço_subformulas,empty_set):\n",
    "        #esta funçao calcula todas as concretizaçoes possiveis das regras de inferencia desta logica. utilizando apenas\n",
    "        #as formulas pertencentes ao espaço de subformulas possiveis. visto ser um calculo analítico, este espaço\n",
    "        #tem as subformulas das premissas e das conclusoes\n",
    "        \n",
    "        \n",
    "        #cada regra é uma lista com duas entradas. a primeira é uma lista com as premissas e a segunda uma lista com as conclusoes\n",
    "    \n",
    "        espaço_regras = []\n",
    "        for regra in self.regras_inferencia:\n",
    "            \n",
    "            numero_variaveis = regra.numero_variaveis\n",
    "            \n",
    "            #vamos fazer todas as combinaçoes possiveis de x formulas, onde x é o numero de variaveis na regra\n",
    "            \n",
    "            combinacoes_possiveis = [[[\"V(0)\",i]] for i in espaço_subformulas]\n",
    "            n = 1\n",
    "            while n < numero_variaveis:\n",
    "                \n",
    "                combinacoes_possiveis = flatten([[j+[[\"V(\"+str(n)+\")\",i]] for i in espaço_subformulas] for j in combinacoes_possiveis])\n",
    "                n += 1\n",
    "                \n",
    "            #agora vamos a cada regra, e concretizamos com todas as combinaçoes que obtemos.    \n",
    "            \n",
    "            for j in combinacoes_possiveis:\n",
    "                espaço_regras += [regra.concretiza(j)]\n",
    "\n",
    "        \n",
    "        #se queremos uma prova empty-set, então só podemos utilizar regras que tenham nas premissas e nas conclusões, apenas\n",
    "        #fórmulas que pertençam ao subconjunto de formulas de gamma e delta\n",
    "        if empty_set:\n",
    "            espaço_regras_empty_set = []\n",
    "            for i in espaço_regras:\n",
    "                if all([j in espaço_subformulas for j in i[0]]):\n",
    "                    if all([j in espaço_subformulas for j in i[1]]):\n",
    "                        espaço_regras_empty_set += [ i ]\n",
    "                        \n",
    "            return espaço_regras_empty_set\n",
    "            \n",
    "        #como isto é um calculo analitico, temos a seguinte certeza: existe uma prova onde so aparecem as formulas percentences\n",
    "        #ao conjunto de subformulas de gamma e delta e thetas dessas formulas, podemos descartas regras concretizadas\n",
    "        #que tenham nas premissas ou conclusoes formulas que nao pertençam aqueles dois conjuntos\n",
    "        \n",
    "        espaço_regras_aux = []\n",
    "        \n",
    "        formulas_que_aparecem = espaço_subformulas[:]\n",
    "        \n",
    "        for i in espaço_subformulas:\n",
    "            \n",
    "            for j in self.separador: #notar que as formulas no separador teem SEMPRE apenas uma variavel\n",
    "                formulas_que_aparecem += [ substituir_variaveis(j,[[\"V(0)\",i]]) ]\n",
    "                \n",
    "        \n",
    "                \n",
    "        formulas_que_aparecem = unique(formulas_que_aparecem)\n",
    "        \n",
    "        for i in espaço_regras:\n",
    "            if all([j in formulas_que_aparecem for j in i[0]]):\n",
    "                if all([j in formulas_que_aparecem for j in i[1]]):\n",
    "                    espaço_regras_aux += [ i ]\n",
    "            \n",
    "        return espaço_regras_aux\n",
    "    \n",
    "\n",
    "    \n",
    "    def variaveis_permanentes_para_heuristica(self,regras,conclusoes):\n",
    "        #esta função é chamado logo no inicio da derivação, cria variáveis importantes que vão depois ser utilizadas\n",
    "        \n",
    "        \n",
    "        #regras_finais sao as regras (já instanciadas) que temos a certeza que vao resultar em apenas folhas.\n",
    "        #sao as regras cujas conclusao estao todas em Delta (as que nao teem conclusoes tambem satisfazem isto)\n",
    "        regras_finais = [i for i in regras if all(i[1][j] in conclusoes for j in range(len(i[1])))]\n",
    "        \n",
    "        self.regras_finais = regras_finais\n",
    "        \n",
    "        espaço_premissas = flatten([i[0] for i in regras])\n",
    "        \n",
    "        self.espaço_premissas = espaço_premissas\n",
    "            \n",
    "        \n",
    "            \n",
    "            \n",
    "        \n",
    "        \n",
    "        \n",
    "         \n",
    "        \n",
    "    def heuristica_regras(self, formulas, regras, conclusoes):\n",
    "        #esta função recebe um nó, e devolve a melhor regra a aplicar.\n",
    "        #as formulas são as fórmulas no nó. \n",
    "        #regras são as regras que podem ser aplicadas neste nó, ou seja, das regras que foram usadas neste ramo, \n",
    "        #as que não concluem nenhuma regra neste nó e aquelas cujas premissas estão\n",
    "        #contidas no conjunto de regras deste nó, \n",
    "        #conclusoes é o conjunto Delta\n",
    "        \n",
    "        \n",
    "        #relembrar que as regras instanciadas sao representadas da forma de uma lista com 2 elementos.\n",
    "        #o primeiro elemento é uma lista com as premissas\n",
    "        #o segundo elemento é uma lista com as conclusoes\n",
    "        \n",
    "        \n",
    "        #só podemos utilizar regras onde as suas premissas estao contidas nas formulas que estao no nó.\n",
    "        #regras_utilizaveis = [i for i in regras if all([j in formulas for j in i[0]])]\n",
    "\n",
    "        #vamos tambem tirar as regras que teem alguma conclusao que ja esta nas formulas deste no, usar essa regra é inutil.\n",
    "        \n",
    "        #regras_utilizaveis = [i for i in regras_utilizaveis if not any([i[1][j] in formulas for j in range(len(i[1]))])]\n",
    "        regras_utilizaveis = regras\n",
    "        #iremos primeiro verificar se existe alguma regra final que se possa utilizar. nesse caso, o ramo fecha.\n",
    "        \n",
    "        a = [i for i in self.regras_finais if i in regras_utilizaveis]\n",
    "        \n",
    "        if a != []:\n",
    "            r = random.choice(a)\n",
    "            return r\n",
    "        \n",
    "        \n",
    "        #agora fazemos o seguinte: \n",
    "        #vemos qual a regras que mais nos aproxima de alguma regra final.\n",
    "        \n",
    "        #vamos ver qual a regra final cujas premissas estão o mais \"quase incluidas\" nas formulas do nosso nó\n",
    "        \n",
    "        b = [[i[0][:],i[1][:]] for i in self.regras_finais]\n",
    "        \n",
    "        for j in b:\n",
    "            \n",
    "            j[0] = [n for n in j[0] if n not in formulas]\n",
    "            j += [len(j[0])]\n",
    "            \n",
    "        #b é agora uma lista com elementos da seguinte forma: \n",
    "        #primeira componente é uma lista com as premissas das regras finais que ainda nao estão nas formulas deste no\n",
    "        #segunda componente sao as componentes dessa regra, nao precisamos realmente desta informaçao\n",
    "        #terceira componente é o comprimento da primeira, ou seja, quantas premissas faltam ter nas formulas, para se poder usar\n",
    "        #esta regra.\n",
    "        \n",
    "        #vamos agora, para cada formula no conjunto de subformulas, atribuir uma heuristica:\n",
    "        \n",
    "        espaço_formulas_nas_conclusoes = flatten([i[1] for i in regras_utilizaveis])\n",
    "        \n",
    "        formulas_com_heuristica = [[i,0] for i in espaço_formulas_nas_conclusoes]\n",
    "        \n",
    "        for j in espaço_formulas_nas_conclusoes:\n",
    "            \n",
    "            if j in conclusoes:\n",
    "                #se a formula que vamos adicionar é uma conclusão, então este ramo fecha, é o melhor caso de todos.\n",
    "                for z in formulas_com_heuristica:\n",
    "                    if z[0] == j:\n",
    "                        z[1] += 1000000\n",
    "            \n",
    "            else:\n",
    "                for i in b:\n",
    "\n",
    "                    #se a formula que queremos adicionar faz com que tenhamos todas as premissas de uma regra_final.  \n",
    "                    #entao este ramo fecha, não neste passo, mas no próximo, este é o segundo melhor caso.\n",
    "                    if i[2] == 1:\n",
    "                        if j in i[0]:\n",
    "                            for z in formulas_com_heuristica:\n",
    "                                if z[0] == j:\n",
    "                                    z[1] += 100000\n",
    "                                    \n",
    "                    #estes outros casos sao piores. representam que a formula que estamos a adicionar coloca-nos\n",
    "                    #um pouco mais proximo de poder utilizar uma regra_final.\n",
    "                    \n",
    "                    #este é quando a formula é uma de duas que faltam para usar uma regra final. \n",
    "                    #vamos tentar ver o quao proximo estamos de chegar à outra fórmula.\n",
    "                    elif i[2] == 2:\n",
    "                        if j in i[0]:\n",
    "                            \n",
    "                            \n",
    "                            \n",
    "                            regras_utilizaveis_pos_j = [d for d in regras if all([f in formulas+[j] for f in d[0]])]\n",
    "                            \n",
    "                            regras_utilizaveis_pos_j = [d for d in regras_utilizaveis_pos_j if not any([d[1][f] in formulas+[j] for f in range(len(d[1]))])]\n",
    "                            \n",
    "                            formula_que_falta = [t for t in i[0] if t!=j][0]\n",
    "                            \n",
    "                            \n",
    "                                \n",
    "                            #vamos ver quantas regras concluem a formula que falta, quantas mais, maior a probabilidade \n",
    "                            #de conseguirmos obtela para depois usar a regra final.\n",
    "                            for t in regras_utilizaveis_pos_j:\n",
    "                                \n",
    "                                \n",
    "                                #agora vamos estimar o quão boa é essa regra.\n",
    "                                if formula_que_falta in t[1]:\n",
    "                                    #se ela so tiver essa conclusao, excelente\n",
    "                                    if len(t[1]) == 1:\n",
    "                                        for z in formulas_com_heuristica:\n",
    "                                            if z[0] == j:\n",
    "\n",
    "                                                z[1] += 5000\n",
    "                                    \n",
    "                                    \n",
    "                                    \n",
    "#estes casos nem sao considerados porque, ate agora, nao vi nehuma logica com regras que tenham mais que duas premissas.                                    \n",
    "#                    elif i[2] == 3:\n",
    "\n",
    "#                    elif i[2] == 4:\n",
    "        \n",
    "        melhor_regra = 0\n",
    "        melhor_heuristica_regra = -1\n",
    "        #vamos considerar a heuristica da regra o minimo das heuristicas das suas conclusoes.\n",
    "        #uma regra, se tem n conclusoes, entao de 1 nó formam-se n nós. e a utilização desta regra só nos facilita\n",
    "        #a vida se o pior destes nós é mais simples que o nó onde estavamos inicialmente.\n",
    "        \n",
    "        for r in regras_utilizaveis:\n",
    "            heuristica_de_cada_regra = 10000000\n",
    "            for conc in r[1]:\n",
    "                heu = [i[1] for i in formulas_com_heuristica if i[0] == conc][0] \n",
    "                heuristica_de_cada_regra = min([heuristica_de_cada_regra,heu])\n",
    "            \n",
    "            \n",
    "            if heuristica_de_cada_regra > melhor_heuristica_regra:\n",
    "                \n",
    "                melhor_heuristica_regra = heuristica_de_cada_regra\n",
    "                \n",
    "                melhor_regra = r\n",
    "\n",
    "        \n",
    "        return melhor_regra\n",
    "\n",
    "\n",
    "    \n",
    "    def desenha(self,arvore):\n",
    "        #funcao que desenha a arvore, neste caso, desenhando um grafo\n",
    "        g = Graph()\n",
    "        \n",
    "        #o nó inicial tem que ser cuidado de forma especial, visto que neste nó estão varias formulas,\n",
    "        #e nos próximos só aquela que foi adicionada.\n",
    "        if arvore[0][0] == []:\n",
    "            raiz = \"vazio\"\n",
    "        else:\n",
    "            raiz = str(arvore[0][0])\n",
    "        g.node(raiz)\n",
    "        \n",
    "        for i in arvore[1:]:\n",
    "            nome = str(i[0][-1]) + \"_\" + str(i[2]) #string que o representa o nó\n",
    "            g.node(nome) #cria o no\n",
    "            \n",
    "            pai = [j for j in arvore if j[2] == i[3]][0] #ve quem é o pai deste no\n",
    "            \n",
    "            \n",
    "            if i[3] == 1: #tendo em conta a diferença se o pai é um no normal ou o no inicial: cria as arestas.\n",
    "                g.edge(nome,raiz)\n",
    "                \n",
    "            else:\n",
    "                nome_pai = str(pai[0][-1]) + \"_\" + str(pai[2])\n",
    "                g.edge(nome,nome_pai)\n",
    "        \n",
    "        \n",
    "        return g\n",
    "    \n",
    "    def prova(self,premissas,conclusoes,des = False, bol = False, empty_set = False, tempo = False, contra_modelo = False):\n",
    "        #esta é a função principal, a que encontra derivações ou contra modelos para conjuntos de regras.\n",
    "        #premissas e conclusões sao os conjuntos Gamma e Delta\n",
    "        #des é um boleano, True para se for desejado desenhar a árvore da derivação e False caso contrário\n",
    "        #bol tambem é um boleano. é True se for desejado devolver apenas True ou False consuante haja ou nao uma derivação\n",
    "        #empty_set é um boleano, é True se for desejado que a derivação seja feita emptyset-analiticamente\n",
    "        #tempo tambem é um boleano, é True se for desejado que se mostre o tempo de execução\n",
    "        #contra_modelo é um boleano, é True se for desejado que se encontre uma atribuição que prova que gamma nao deriva delta,\n",
    "                                                                                                            #se for esse o caso\n",
    "        start = time.time()\n",
    "        \n",
    "        #construir o espaço de formulas que o calculo pode usar\n",
    "        \n",
    "        \n",
    "        espaço_sub = self.espaço_subformulas(premissas,conclusoes)\n",
    "        \n",
    "        \n",
    "        #se quisermos fazer um prova empty-set, em cada no da árvore, só podem a aparecer subformulas de gamma e delta,\n",
    "        #impedindo assim que apareçam theta de formulas\n",
    "        espaço_regras = self.espaço_regras(premissas,conclusoes,espaço_sub,empty_set)\n",
    "\n",
    "  \n",
    "        #função que calcula variáveis úteis para a heurística como as regras finais\n",
    "        self.variaveis_permanentes_para_heuristica(espaço_regras,conclusoes)\n",
    "        \n",
    "        w = True\n",
    "        \n",
    "        #cada nó é representado por uma lista com 4 elementos. \n",
    "        #o primeiro é uma lista com as fórmulas nesse nó.\n",
    "        #e o segundo é uma lista com as regras de inferencia já usadas para chegar até este nó\n",
    "        #os ultimos 2 são o número do nó e o número do seu pai. para depois ajudar a desenhar a árvore. \n",
    "        \n",
    "        numero_no = 1\n",
    "        \n",
    "        nos_abertos = [[premissas,[],numero_no,0]]\n",
    "        \n",
    "        arvore = []\n",
    "        \n",
    "        while w:\n",
    "            if nos_abertos == []:\n",
    "                #significa que todos os ramos já foram fechados e a prova está completa, concluimos que existe uma derivação\n",
    "                r = True\n",
    "                w = False\n",
    "            else:\n",
    "            \n",
    "                no_a_atuar = nos_abertos[0]\n",
    "                \n",
    "                arvore += [no_a_atuar]\n",
    "\n",
    "                nos_abertos = nos_abertos[1:]\n",
    "                \n",
    "                regras_nao_usadas = [i for i in espaço_regras if i not in no_a_atuar[1]]\n",
    "                \n",
    "                \n",
    "                #nao iremos usar regras donde resulte um ramo igual ao que estamos.\n",
    "                regras_nao_usadas = [i for i in regras_nao_usadas if not any([i[1][j] in no_a_atuar[0] for j in range(len(i[1]))])]\n",
    "\n",
    "                #só vamos utilizar regras onde as premissas estejam todas contidas nas formulas deste nó\n",
    "                regras_nao_usadas = [i for i in regras_nao_usadas if all([j in no_a_atuar[0] for j in i[0]])]\n",
    "                \n",
    "                if any(flatten([[i==j for i in conclusoes] for j in no_a_atuar[0]])): \n",
    "                    #este if é verdadeiro se alguma conclusão já se encontra no conjunto de formulas deste nó, logo\n",
    "                    #este ramo fecha.\n",
    "                    pass\n",
    "                \n",
    "                \n",
    "                elif regras_nao_usadas == []:\n",
    "                    #este if é verdadeiro se: no ramo que leva ao nó em que nós estamos, ja foram usadas todas as regras de \n",
    "                                            #inferencia possíveis, e nesse caso a prova é falsa.\n",
    "                    r = False\n",
    "                    w = False\n",
    "                    r1 = no_a_atuar[0]\n",
    "                    \n",
    "                #elif [i for i in regras_nao_usadas if all([j in no_a_atuar[0] for j in i[0]])] == []:\n",
    "                    #este if é verdadeiro se: não há nenhuma regra que se possa utilizar neste nó, que ainda nao tenha sido \n",
    "                    #usada. neste caso, a prova é falsa.\n",
    "        \n",
    "                \n",
    "                #    r = False\n",
    "                #    w = False\n",
    "                #    r1 = no_a_atuar[0]\n",
    "                \n",
    "                else:\n",
    "                    #escolhemos a regra, ja concretizada, que vamos usar. tendo em conta das fórmulas que já temos neste nó\n",
    "                    #e as regras já usadas até aqui. só iremos escolher, de entre as regras todas, as que ainda não foram\n",
    "                    #usadas previamente neste ramo.\n",
    "                    #a função tem tambem como argumento as conclusoes para melhorar a heuristica de procura.\n",
    "                    regra_a_usar = self.heuristica_regras(no_a_atuar[0],regras_nao_usadas,conclusoes)\n",
    "                    \n",
    "\n",
    "                    #depois de escolher a regra a utilizar, criamos x novos nós filhos deste nó, onde x é o número de \n",
    "                    #conclusões desta regra de inferência\n",
    "                    \n",
    "                    #colocaremos os novos nós no início da fila, para fazer um procura em profundidade primeiro.\n",
    "                    \n",
    "                    if len(regra_a_usar[1]) == 0: #criar os nos em que explode, só para aparecerem na arvore\n",
    "                        \n",
    "                        arvore += [ [no_a_atuar[0] + [\"*\"],no_a_atuar[1] + [regra_a_usar], numero_no+1,no_a_atuar[2]] ] \n",
    "                        numero_no += 1\n",
    "                    \n",
    "                    nos_abertos =  [  [unique(no_a_atuar[0] + [i]), no_a_atuar[1] + [regra_a_usar],numero_no+ regra_a_usar[1].index(i) + 1,no_a_atuar[2]] for i in regra_a_usar[1] ] + nos_abertos\n",
    "        \n",
    "                    numero_no += len(regra_a_usar[1])\n",
    "            \n",
    "        end = time.time()\n",
    "        if tempo:\n",
    "            print(\"tempo de execução (nao conta com o desenhar da arvor): \" + str(end-start))\n",
    "        if r:\n",
    "            #print(\"A partir destas premissas é, de facto, sempre possível provar alguma destas conclusões.\")\n",
    "            if des:\n",
    "                #print(\"A partir destas premissas é, de facto, sempre possível provar alguma destas conclusões.\")\n",
    "                return self.desenha(arvore)\n",
    "            elif bol:\n",
    "                return True\n",
    "        else:\n",
    "            #print(\"A partir destas premissas não é possível provar nenhuma destas conclusões e está aqui o conjunto de fórmulas que o mostram:\")\n",
    "            if bol:\n",
    "                return False\n",
    "            else:\n",
    "                if contra_modelo:\n",
    "                    return self.encontra_modelo(premissas, conclusoes, r1)\n",
    "                else:\n",
    "                    return r1\n",
    "    \n",
    "#########################################################################################################################################################    \n",
    "#########################################################################################################################################################    \n",
    "#########################################################################################################################################################    \n",
    "#########################################################################################################################################################    \n",
    "#this part is about the semantic algorithm\n",
    "#the funtions that follow are necessary to, in case there is no derivation from gamma to delta, get the valuation\n",
    "#that makes every formula in gamma designated and no formulas in delta designated\n",
    "\n",
    "    def encontra_modelo(self,premissas, conclusoes, formulas):\n",
    "        #isto é a funçao que, dado o \"ramo\" da prova que utiliza regras, encontra o contra modelo.\n",
    "        #formulas são as formulas do ramo\n",
    "        #premissas e conclusoes sao usadas para calcular todas as subformulas.\n",
    "        \n",
    "        #o resultado vai ser uma atribuiçao, não só as variaveis, mas tambem para todas as subformulas de gamma e delta\n",
    "        r = {}\n",
    "        \n",
    "        subformulas = flatten([subform(j,self.simbolos) for j in (premissas + conclusoes)])\n",
    "        \n",
    "        possibilidades = [[i,self.valores_verdade] for i in subformulas]\n",
    "        \n",
    "        #para cada formula A, vamos ver se os thetas de A estao no ramo ou nao,\n",
    "        #e assim diminuimos as possibilidades de valores de verdade que essa formula pode tomar.\n",
    "        for i in subformulas:\n",
    "            possiveis_valores_verdade = self.valores_verdade\n",
    "            \n",
    "            for j in self.separador:\n",
    "                \n",
    "                #a é theta de A\n",
    "                a = substituir_variaveis(j,[[\"V(0)\",i]])\n",
    "                \n",
    "                #se a está nas formulas, entao sabemos que theta(A) assume um valor de verdade designado\n",
    "                #ou seja... A só pode assumir valores de verdade v tais que theta(v) é designado\n",
    "                if a in formulas:\n",
    "                    valores_verdade_aux = [z for z in self.valores_verdade if self.atribui_formula(j,{\"V(0)\":z})[0] in self.designados]\n",
    "                    \n",
    "                    \n",
    "                #neste caso... theta(A) não é designado e podemos fazer um raciocinio semelhante e concluir que A pode\n",
    "                #assumir todos os valores de verdade v tais que theta(v) nao é designado\n",
    "                else:\n",
    "                    valores_verdade_aux = [z for z in self.valores_verdade if self.atribui_formula(j,{\"V(0)\":z})[0] not in self.designados]\n",
    "                \n",
    "                possiveis_valores_verdade = [z for z in possiveis_valores_verdade if z in valores_verdade_aux]\n",
    "\n",
    "            if len(possiveis_valores_verdade) != 1:\n",
    "                print(\"isto nao era suposto acontecer... os thetas nao definiram unicamente o valor de verdade da formula\")\n",
    "            else:\n",
    "                r[i] = possiveis_valores_verdade[0]\n",
    "                \n",
    "        return r\n",
    "    \n",
    "    def atribui_formula_aux(self,formula,atribuiçao):\n",
    "        #uma atribuiçao é um dicionario em que as chaves sao \"V(0)\" ou \"V(1)\" ou ... e que devolve a atribuiçao dessa variavel\n",
    "\n",
    "        #esta funcao, dada uma formula e uma atribuiçao, devolve uma formula que, no lugar das variaveis, tem valores de verdade.\n",
    "\n",
    "        r = \"\"\n",
    "        found_v = False\n",
    "        variavel = \"\"\n",
    "        for i in formula:\n",
    "            if i == \"V\":\n",
    "                found_v = True\n",
    "\n",
    "            elif found_v:\n",
    "\n",
    "                if i == \")\":\n",
    "                    found_v = False\n",
    "                    r += atribuiçao[\"V(\"+variavel+\")\"]\n",
    "                    variavel = \"\"\n",
    "\n",
    "                elif i!= \"(\":\n",
    "                    variavel += i\n",
    "                    \n",
    "\n",
    "            else:\n",
    "                r += i\n",
    "\n",
    "        return r\n",
    "\n",
    "    def atribui_formula(self,formula,atribuiçao):\n",
    "        #esta funcao, dada uma formula e uma atribuiçao, diz todos os valores de verdade que esta formula pode tomar.\n",
    "\n",
    "        a = self.atribui_formula_aux(formula,atribuiçao)\n",
    "            #\"a\" é a formula mas com as variaveis subtituidas pelos valores de verdade\n",
    "            \n",
    "        operador = a[0]\n",
    "        \n",
    "\n",
    "        if operador in self.valores_verdade:\n",
    "            return [operador]\n",
    "\n",
    "        else:\n",
    "            aridade = self.aridades[self.simbolos.index(operador)]\n",
    "\n",
    "            if aridade == 1:\n",
    "                #vamos ver todas as possiveis\n",
    "\n",
    "                valores_verdade = []\n",
    "                for i in self.atribui_formula(a[2:-1],atribuiçao):\n",
    "                    #i são os valores de verdade que o interior deste operador pode tomar, agora... para cada um deles\n",
    "                    #vamos ver que valores de verdade resultam de aplicar o operador a esse valor de verdade \n",
    "                    \n",
    "                    valores_verdade += self.atribuiçoes[str(operador)+\"(\"+ i +\")\"]\n",
    "                    \n",
    "                    \n",
    "                return unique(valores_verdade)\n",
    "            \n",
    "            \n",
    "            else:\n",
    "\n",
    "                b = a[2:-1]\n",
    "\n",
    "                parentesis_abertos = 1\n",
    "\n",
    "                virgulas = 0\n",
    "\n",
    "                ultima_virgula = -1\n",
    "\n",
    "                argumentos = []\n",
    "\n",
    "                for i in range(len(b)):\n",
    "\n",
    "                    if b[i] == \"(\":\n",
    "                        parentesis_abertos += 1\n",
    "                    elif b[i]  == \")\":\n",
    "                        parentesis_abertos -= 1\n",
    "                    elif b[i] == \",\" and parentesis_abertos == 1:\n",
    "                        \n",
    "                        #argumentos tem os possiveis valores de verdade para cada argumento.\n",
    "\n",
    "                        \n",
    "                        argumentos += [self.atribui_formula(b[ultima_virgula+1:i],atribuiçao)]\n",
    "                        \n",
    "                        ultima_virgula = i\n",
    "                        \n",
    "                argumentos += [self.atribui_formula(b[ultima_virgula+1:],atribuiçao)]\n",
    "\n",
    "                \n",
    "                \n",
    "                counter_max = [len(i) for i in argumentos]\n",
    "                counter = [0 for i in argumentos]\n",
    "                \n",
    "                w = True\n",
    "                valores_verdade = []\n",
    "                \n",
    "                #vamos, para cada combinaçao de valores de verdade nos argumentos deste operador, ver que valores de verdade\n",
    "                #ele pode tomar.\n",
    "                while w:\n",
    "                    argumentos_aux = \"\"\n",
    "                    for i in range(len(counter)):\n",
    "                        argumentos_aux += argumentos[i][counter[i]] + \",\" \n",
    "                    \n",
    "                    #construimos uma possivel concretização para este operador, agora vamos ver que valores de verdade\n",
    "                    #ele pode tomar com esta concretização:\n",
    "                    \n",
    "                    valores_verdade += self.atribuiçoes[operador + \"(\" + argumentos_aux[:-1] + \")\"]\n",
    "                    \n",
    "                    #agora vamos construir o proximo, ou seja.. basta \"atualizar\" o counter, uma ideia semelhante à usada\n",
    "                    #na funcao \"cria_atribuiçoes\"\n",
    "                    \n",
    "                    w_aux = True\n",
    "                    j = 1\n",
    "                    while w_aux:\n",
    "                        if j > len(counter):\n",
    "                            w_aux = False\n",
    "                            w = False\n",
    "                        \n",
    "                        else:\n",
    "                            counter[-j] += 1\n",
    "\n",
    "                            if counter[-j] >= counter_max[-j]:\n",
    "                                counter[-j] = 0\n",
    "                                j += 1\n",
    "\n",
    "\n",
    "                            else:\n",
    "                                w_aux = False\n",
    "                            \n",
    "                #depois deste ciclo, temos entao todos os valores de verdade que podem resultar daqui.\n",
    "                \n",
    "                return unique(valores_verdade)\n",
    "                    \n",
    "                \n",
    "                \n",
    "    def cria_atribuiçoes(self,numero_variaveis):\n",
    "        r = []\n",
    "\n",
    "\n",
    "        #este \"counter\" é o que contem a informaçao sobre como construir a atribuiçao, se o counter esta no estado \n",
    "        # [0,0,0,0] entao as 4 variaveis sao atribuidas o primeiro valor de verdade, se esta no estado\n",
    "        #[1,0,0,0] entao a primeira variavel é atribuido o segundo valor de verdade e às outras o primeiro, and so on...\n",
    "        counter = []\n",
    "        for i in range(numero_variaveis):\n",
    "            counter += [0]\n",
    "\n",
    "        w = True\n",
    "        while w:\n",
    "            atri = {}\n",
    "\n",
    "            for i in range(numero_variaveis):\n",
    "                atri[\"V(\"+ str(i) +\")\"] = self.valores_verdade[counter[i]]\n",
    "\n",
    "            r += [atri]\n",
    "\n",
    "            #vamos somar 1 ao counter, isso tem o seguinte processo:\n",
    "            #somamos 1 ao ultimo elemento, se ele for maior que o numero de valores de verdade, entao coloca-lo a zero\n",
    "            #e somar 1 ao penultimo elemento, se ele for maior que o numero de valores de verdade, entao colcalo a zero e...\n",
    "            w_aux = True\n",
    "            j = 1\n",
    "            while w_aux:\n",
    "                if counter[-j] < len(self.valores_verdade) - 1:\n",
    "                    counter[-j] += 1\n",
    "                    w_aux = False\n",
    "\n",
    "                elif j >= len(counter):\n",
    "                    w_aux = False\n",
    "                    w = False\n",
    "\n",
    "                else:\n",
    "                    counter[-j] = 0\n",
    "                    j += 1\n",
    "\n",
    "        return r\n",
    "\n",
    "    def prova_semantica(self,premissas,conclusoes, bol = False,tempo = False):\n",
    "        #dada um conjunto de premissas e um conjunto de conclusoes, verificar se, qualquer atribuiçao que faça com que\n",
    "        #as premissas tenham todos um valor de verdade designado, algumas das conclusoes tambem tem.\n",
    "        #se for esse o caso, a prova é verdadeira, se nao for esse o caso, a prova é falsa, e devolve-se a atribuiçao.\n",
    "        \n",
    "        #esta função só funciona para calculos deterministas, por so calcula todas as valoraçoes para as variaveis. \n",
    "        #Para calculos nao deterministas as atribuições também teriam \n",
    "        #que determinar o valor de verdade que dão a todas as subformulas de gamma e de delta.\n",
    "        \n",
    "        \n",
    "        start = time.time()\n",
    "        \n",
    "        #vamos primeiro perceber qual é a maior variavel que temos\n",
    "        variavel_maxima = 0\n",
    "        for i in premissas+conclusoes:\n",
    "            for j in i:\n",
    "                if is_int(j):\n",
    "                    variavel_maxima = max(variavel_maxima,int(j))\n",
    "                    \n",
    "        atribuiçoes = self.cria_atribuiçoes(variavel_maxima+1)\n",
    "        r = True\n",
    "        for i in atribuiçoes:\n",
    "            if r:\n",
    "\n",
    "                premissas_verdadeiras = True\n",
    "\n",
    "                for j in premissas:\n",
    "                #vamos verificar se, para esta atribuiçao \"i\", todas as premissas sao verdadeiras ou nao\n",
    "                    if any([z in self.designados for z in self.atribui_formula(j,i)]):\n",
    "                        #sifnifica que, para esta atribuiçao, esta premissa pode tomar um valor de verdade designado\n",
    "                        pass\n",
    "\n",
    "                    else:\n",
    "                        premissas_verdadeiras = False\n",
    "\n",
    "                if premissas_verdadeiras:\n",
    "                    #significa que, para esta atribuiçao, todas as premissas podem assumir um valor de verdade designado\n",
    "\n",
    "                    conclusao_falsa = False\n",
    "\n",
    "                    for j in conclusoes:\n",
    "                    #vamos verificar, para esta atribuiçao \"i\", que faz com que todas as premissas sejam verdadeiras,\n",
    "                    #se faz com que todas as conclusoes sejam falsas, se sim, entao \"i\" é um contra modelo.\n",
    "\n",
    "                        if any([z not in self.designados for z in self.atribui_formula(j,i)]):\n",
    "                            #significa que, para esta atribuiçao, esta conclusao é falsa\n",
    "                            conclusao_falsa = True\n",
    "                        else:\n",
    "                            #eu sei que isto é inutil mas é para assentar ideias e para ser mais simétrico.\n",
    "                            pass\n",
    "\n",
    "                    if conclusao_falsa:\n",
    "                        #significa que, para esta atribuiçao, todas as premissas sao verdadeiras mas nenhuma conclusao é\n",
    "\n",
    "                        r = False\n",
    "                        r1 = i\n",
    "                        \n",
    "        end = time.time()\n",
    "        if tempo:\n",
    "            print(str(end-start))\n",
    "        if r:\n",
    "            #print(\"para qualquer atribuição que faz todas as premissas tomar um valor de verdade designado, uma conclusão também toda um valor de verdade designado\")\n",
    "            return r\n",
    "        else:\n",
    "            #print(\"esta atribuição faz com que todas as premissas tomem um valor de verdade designado mas nenhuma conclusão.\")\n",
    "            return r1  \n",
    "                \n",
    "   \n",
    "    "
   ]
  },
  {
   "cell_type": "markdown",
   "metadata": {},
   "source": [
    "Nas próximas linhas cria-se a lógica clássica de hilbert. exemplo 2.1 da página 7"
   ]
  },
  {
   "cell_type": "code",
   "execution_count": 14,
   "metadata": {},
   "outputs": [],
   "source": [
    "CH = logica([\"N\",\"I\",\"E\",\"O\"],[1,2,2,2],[\"V(0)\"]) #os valores de verdade são só True e False logo \"{p}\" é um separador\n",
    "#os simbolos sao representados por uma letra apenas\n",
    "# N é o \"não\"\n",
    "# I é a implicação\n",
    "# E é a conjunção \"e\"\n",
    "# O é a conjunção \"ou\""
   ]
  },
  {
   "cell_type": "code",
   "execution_count": 15,
   "metadata": {},
   "outputs": [],
   "source": [
    "CH.adiciona_regra_inferencia([\"V(0)\",\"N(V(0))\"],[],[\"V(0)\"])\n",
    "CH.adiciona_regra_inferencia([],[\"V(0)\",\"N(V(0))\"],[\"V(0)\"])\n",
    "CH.adiciona_regra_inferencia([\"E(V(0),V(1))\"],[\"V(0)\"],[\"V(0)\",\"V(1)\"])\n",
    "CH.adiciona_regra_inferencia([\"E(V(0),V(1))\"],[\"V(1)\"],[\"V(0)\",\"V(1)\"])\n",
    "CH.adiciona_regra_inferencia([\"V(0)\",\"V(1)\"],[\"E(V(0),V(1))\"],[\"V(0)\",\"V(1)\"])\n",
    "CH.adiciona_regra_inferencia([\"V(0)\"],[\"O(V(0),V(1))\"],[\"V(0)\",\"V(1)\"])\n",
    "CH.adiciona_regra_inferencia([\"V(1)\"],[\"O(V(0),V(1))\"],[\"V(0)\",\"V(1)\"])\n",
    "CH.adiciona_regra_inferencia([\"O(V(0),V(1))\"],[\"V(0)\",\"V(1)\"],[\"V(0)\",\"V(1)\"])\n",
    "CH.adiciona_regra_inferencia([],[\"V(0)\",\"I(V(0),V(1))\"],[\"V(0)\",\"V(1)\"])\n",
    "CH.adiciona_regra_inferencia([\"V(0)\",\"I(V(0),V(1))\"],[\"V(1)\"],[\"V(0)\",\"V(1)\"])\n",
    "CH.adiciona_regra_inferencia([\"V(1)\"],[\"I(V(0),V(1))\"],[\"V(0)\",\"V(1)\"])\n",
    "\n",
    "dicionario = {\"N(t)\":[\"f\"],\n",
    " \"N(f)\":[\"t\"],\n",
    " \"I(t,t)\":[\"t\"],\n",
    " \"I(t,f)\":[\"f\"],\n",
    " \"I(f,t)\":[\"t\"],\n",
    " \"I(f,f)\":[\"t\"],\n",
    " \"O(t,t)\":[\"t\"],\n",
    " \"O(f,t)\":[\"t\"],\n",
    " \"O(t,f)\":[\"t\"],\n",
    " \"O(f,f)\":[\"f\"],\n",
    " \"E(t,t)\":[\"t\"],\n",
    " \"E(f,t)\":[\"f\"],\n",
    " \"E(t,f)\":[\"f\"],\n",
    " \"E(f,f)\":[\"f\"]}\n",
    "\n",
    "CH.adiciona_atribuiçoes(dicionario)\n",
    "CH.adiciona_valores_de_verdade([\"t\",\"f\"],[\"t\"])"
   ]
  },
  {
   "cell_type": "code",
   "execution_count": 16,
   "metadata": {
    "scrolled": false
   },
   "outputs": [
    {
     "name": "stdout",
     "output_type": "stream",
     "text": [
      "tempo de execução (nao conta com o desenhar da arvor): 0.0009980201721191406\n"
     ]
    },
    {
     "data": {
      "image/svg+xml": "<?xml version=\"1.0\" encoding=\"UTF-8\" standalone=\"no\"?>\r\n<!DOCTYPE svg PUBLIC \"-//W3C//DTD SVG 1.1//EN\"\r\n \"http://www.w3.org/Graphics/SVG/1.1/DTD/svg11.dtd\">\r\n<!-- Generated by graphviz version 2.38.0 (20140413.2041)\r\n -->\r\n<!-- Title: %3 Pages: 1 -->\r\n<svg width=\"256pt\" height=\"188pt\"\r\n viewBox=\"0.00 0.00 255.69 188.00\" xmlns=\"http://www.w3.org/2000/svg\" xmlns:xlink=\"http://www.w3.org/1999/xlink\">\r\n<g id=\"graph0\" class=\"graph\" transform=\"scale(1 1) rotate(0) translate(4 184)\">\r\n<title>%3</title>\r\n<polygon fill=\"white\" stroke=\"none\" points=\"-4,4 -4,-184 251.689,-184 251.689,4 -4,4\"/>\r\n<!-- vazio -->\r\n<g id=\"node1\" class=\"node\"><title>vazio</title>\r\n<ellipse fill=\"none\" stroke=\"black\" cx=\"123.344\" cy=\"-18\" rx=\"29.795\" ry=\"18\"/>\r\n<text text-anchor=\"middle\" x=\"123.344\" y=\"-14.3\" font-family=\"Times New Roman,serif\" font-size=\"14.00\">vazio</text>\r\n</g>\r\n<!-- V(0)_2 -->\r\n<g id=\"node2\" class=\"node\"><title>V(0)_2</title>\r\n<ellipse fill=\"none\" stroke=\"black\" cx=\"64.3443\" cy=\"-90\" rx=\"36.2938\" ry=\"18\"/>\r\n<text text-anchor=\"middle\" x=\"64.3443\" y=\"-86.3\" font-family=\"Times New Roman,serif\" font-size=\"14.00\">V(0)_2</text>\r\n</g>\r\n<!-- V(0)_2&#45;&#45;vazio -->\r\n<g id=\"edge1\" class=\"edge\"><title>V(0)_2&#45;&#45;vazio</title>\r\n<path fill=\"none\" stroke=\"black\" d=\"M77.7323,-73.1159C87.524,-61.4986 100.732,-45.8282 110.415,-34.3402\"/>\r\n</g>\r\n<!-- I(V(0),V(0))_4 -->\r\n<g id=\"node3\" class=\"node\"><title>I(V(0),V(0))_4</title>\r\n<ellipse fill=\"none\" stroke=\"black\" cx=\"64.3443\" cy=\"-162\" rx=\"64.189\" ry=\"18\"/>\r\n<text text-anchor=\"middle\" x=\"64.3443\" y=\"-158.3\" font-family=\"Times New Roman,serif\" font-size=\"14.00\">I(V(0),V(0))_4</text>\r\n</g>\r\n<!-- I(V(0),V(0))_4&#45;&#45;V(0)_2 -->\r\n<g id=\"edge2\" class=\"edge\"><title>I(V(0),V(0))_4&#45;&#45;V(0)_2</title>\r\n<path fill=\"none\" stroke=\"black\" d=\"M64.3443,-143.697C64.3443,-132.846 64.3443,-118.917 64.3443,-108.104\"/>\r\n</g>\r\n<!-- I(V(0),V(0))_3 -->\r\n<g id=\"node4\" class=\"node\"><title>I(V(0),V(0))_3</title>\r\n<ellipse fill=\"none\" stroke=\"black\" cx=\"183.344\" cy=\"-90\" rx=\"64.189\" ry=\"18\"/>\r\n<text text-anchor=\"middle\" x=\"183.344\" y=\"-86.3\" font-family=\"Times New Roman,serif\" font-size=\"14.00\">I(V(0),V(0))_3</text>\r\n</g>\r\n<!-- I(V(0),V(0))_3&#45;&#45;vazio -->\r\n<g id=\"edge3\" class=\"edge\"><title>I(V(0),V(0))_3&#45;&#45;vazio</title>\r\n<path fill=\"none\" stroke=\"black\" d=\"M169.125,-72.411C159.283,-60.929 146.274,-45.7514 136.639,-34.5108\"/>\r\n</g>\r\n</g>\r\n</svg>\r\n",
      "text/plain": [
       "<graphviz.dot.Graph at 0x170e8a26ac8>"
      ]
     },
     "execution_count": 16,
     "metadata": {},
     "output_type": "execute_result"
    }
   ],
   "source": [
    "CH.prova([],[\"I(V(0),V(0))\"],True, tempo = True)"
   ]
  },
  {
   "cell_type": "code",
   "execution_count": 17,
   "metadata": {},
   "outputs": [
    {
     "name": "stdout",
     "output_type": "stream",
     "text": [
      "0.0\n"
     ]
    },
    {
     "data": {
      "text/plain": [
       "True"
      ]
     },
     "execution_count": 17,
     "metadata": {},
     "output_type": "execute_result"
    }
   ],
   "source": [
    "CH.prova_semantica([],[\"I(V(0),V(0))\"],True, tempo = True)"
   ]
  },
  {
   "cell_type": "code",
   "execution_count": 18,
   "metadata": {
    "scrolled": false
   },
   "outputs": [
    {
     "name": "stdout",
     "output_type": "stream",
     "text": [
      "tempo de execução (nao conta com o desenhar da arvor): 0.003023862838745117\n"
     ]
    },
    {
     "data": {
      "image/svg+xml": "<?xml version=\"1.0\" encoding=\"UTF-8\" standalone=\"no\"?>\r\n<!DOCTYPE svg PUBLIC \"-//W3C//DTD SVG 1.1//EN\"\r\n \"http://www.w3.org/Graphics/SVG/1.1/DTD/svg11.dtd\">\r\n<!-- Generated by graphviz version 2.38.0 (20140413.2041)\r\n -->\r\n<!-- Title: %3 Pages: 1 -->\r\n<svg width=\"710pt\" height=\"332pt\"\r\n viewBox=\"0.00 0.00 710.48 332.00\" xmlns=\"http://www.w3.org/2000/svg\" xmlns:xlink=\"http://www.w3.org/1999/xlink\">\r\n<g id=\"graph0\" class=\"graph\" transform=\"scale(1 1) rotate(0) translate(4 328)\">\r\n<title>%3</title>\r\n<polygon fill=\"white\" stroke=\"none\" points=\"-4,4 -4,-328 706.479,-328 706.479,4 -4,4\"/>\r\n<!-- vazio -->\r\n<g id=\"node1\" class=\"node\"><title>vazio</title>\r\n<ellipse fill=\"none\" stroke=\"black\" cx=\"291.239\" cy=\"-18\" rx=\"29.795\" ry=\"18\"/>\r\n<text text-anchor=\"middle\" x=\"291.239\" y=\"-14.3\" font-family=\"Times New Roman,serif\" font-size=\"14.00\">vazio</text>\r\n</g>\r\n<!-- V(0)_2 -->\r\n<g id=\"node2\" class=\"node\"><title>V(0)_2</title>\r\n<ellipse fill=\"none\" stroke=\"black\" cx=\"176.239\" cy=\"-90\" rx=\"36.2938\" ry=\"18\"/>\r\n<text text-anchor=\"middle\" x=\"176.239\" y=\"-86.3\" font-family=\"Times New Roman,serif\" font-size=\"14.00\">V(0)_2</text>\r\n</g>\r\n<!-- V(0)_2&#45;&#45;vazio -->\r\n<g id=\"edge1\" class=\"edge\"><title>V(0)_2&#45;&#45;vazio</title>\r\n<path fill=\"none\" stroke=\"black\" d=\"M198.412,-75.5033C219.429,-62.7106 250.726,-43.6604 271.06,-31.2832\"/>\r\n</g>\r\n<!-- I(I(I(V(0),V(1)),V(0)),V(0))_4 -->\r\n<g id=\"node3\" class=\"node\"><title>I(I(I(V(0),V(1)),V(0)),V(0))_4</title>\r\n<ellipse fill=\"none\" stroke=\"black\" cx=\"120.239\" cy=\"-162\" rx=\"120.479\" ry=\"18\"/>\r\n<text text-anchor=\"middle\" x=\"120.239\" y=\"-158.3\" font-family=\"Times New Roman,serif\" font-size=\"14.00\">I(I(I(V(0),V(1)),V(0)),V(0))_4</text>\r\n</g>\r\n<!-- I(I(I(V(0),V(1)),V(0)),V(0))_4&#45;&#45;V(0)_2 -->\r\n<g id=\"edge2\" class=\"edge\"><title>I(I(I(V(0),V(1)),V(0)),V(0))_4&#45;&#45;V(0)_2</title>\r\n<path fill=\"none\" stroke=\"black\" d=\"M133.795,-144.055C142.729,-132.887 154.365,-118.343 163.194,-107.307\"/>\r\n</g>\r\n<!-- I(V(0),V(1))_3 -->\r\n<g id=\"node4\" class=\"node\"><title>I(V(0),V(1))_3</title>\r\n<ellipse fill=\"none\" stroke=\"black\" cx=\"351.239\" cy=\"-90\" rx=\"64.189\" ry=\"18\"/>\r\n<text text-anchor=\"middle\" x=\"351.239\" y=\"-86.3\" font-family=\"Times New Roman,serif\" font-size=\"14.00\">I(V(0),V(1))_3</text>\r\n</g>\r\n<!-- I(V(0),V(1))_3&#45;&#45;vazio -->\r\n<g id=\"edge3\" class=\"edge\"><title>I(V(0),V(1))_3&#45;&#45;vazio</title>\r\n<path fill=\"none\" stroke=\"black\" d=\"M337.02,-72.411C327.178,-60.929 314.169,-45.7514 304.534,-34.5108\"/>\r\n</g>\r\n<!-- I(I(V(0),V(1)),V(0))_5 -->\r\n<g id=\"node5\" class=\"node\"><title>I(I(V(0),V(1)),V(0))_5</title>\r\n<ellipse fill=\"none\" stroke=\"black\" cx=\"351.239\" cy=\"-162\" rx=\"92.0841\" ry=\"18\"/>\r\n<text text-anchor=\"middle\" x=\"351.239\" y=\"-158.3\" font-family=\"Times New Roman,serif\" font-size=\"14.00\">I(I(V(0),V(1)),V(0))_5</text>\r\n</g>\r\n<!-- I(I(V(0),V(1)),V(0))_5&#45;&#45;I(V(0),V(1))_3 -->\r\n<g id=\"edge4\" class=\"edge\"><title>I(I(V(0),V(1)),V(0))_5&#45;&#45;I(V(0),V(1))_3</title>\r\n<path fill=\"none\" stroke=\"black\" d=\"M351.239,-143.697C351.239,-132.846 351.239,-118.917 351.239,-108.104\"/>\r\n</g>\r\n<!-- V(0)_7 -->\r\n<g id=\"node6\" class=\"node\"><title>V(0)_7</title>\r\n<ellipse fill=\"none\" stroke=\"black\" cx=\"351.239\" cy=\"-234\" rx=\"36.2938\" ry=\"18\"/>\r\n<text text-anchor=\"middle\" x=\"351.239\" y=\"-230.3\" font-family=\"Times New Roman,serif\" font-size=\"14.00\">V(0)_7</text>\r\n</g>\r\n<!-- V(0)_7&#45;&#45;I(I(V(0),V(1)),V(0))_5 -->\r\n<g id=\"edge5\" class=\"edge\"><title>V(0)_7&#45;&#45;I(I(V(0),V(1)),V(0))_5</title>\r\n<path fill=\"none\" stroke=\"black\" d=\"M351.239,-215.697C351.239,-204.846 351.239,-190.917 351.239,-180.104\"/>\r\n</g>\r\n<!-- I(I(I(V(0),V(1)),V(0)),V(0))_8 -->\r\n<g id=\"node7\" class=\"node\"><title>I(I(I(V(0),V(1)),V(0)),V(0))_8</title>\r\n<ellipse fill=\"none\" stroke=\"black\" cx=\"351.239\" cy=\"-306\" rx=\"120.479\" ry=\"18\"/>\r\n<text text-anchor=\"middle\" x=\"351.239\" y=\"-302.3\" font-family=\"Times New Roman,serif\" font-size=\"14.00\">I(I(I(V(0),V(1)),V(0)),V(0))_8</text>\r\n</g>\r\n<!-- I(I(I(V(0),V(1)),V(0)),V(0))_8&#45;&#45;V(0)_7 -->\r\n<g id=\"edge6\" class=\"edge\"><title>I(I(I(V(0),V(1)),V(0)),V(0))_8&#45;&#45;V(0)_7</title>\r\n<path fill=\"none\" stroke=\"black\" d=\"M351.239,-287.697C351.239,-276.846 351.239,-262.917 351.239,-252.104\"/>\r\n</g>\r\n<!-- I(I(I(V(0),V(1)),V(0)),V(0))_6 -->\r\n<g id=\"node8\" class=\"node\"><title>I(I(I(V(0),V(1)),V(0)),V(0))_6</title>\r\n<ellipse fill=\"none\" stroke=\"black\" cx=\"582.239\" cy=\"-162\" rx=\"120.479\" ry=\"18\"/>\r\n<text text-anchor=\"middle\" x=\"582.239\" y=\"-158.3\" font-family=\"Times New Roman,serif\" font-size=\"14.00\">I(I(I(V(0),V(1)),V(0)),V(0))_6</text>\r\n</g>\r\n<!-- I(I(I(V(0),V(1)),V(0)),V(0))_6&#45;&#45;I(V(0),V(1))_3 -->\r\n<g id=\"edge7\" class=\"edge\"><title>I(I(I(V(0),V(1)),V(0)),V(0))_6&#45;&#45;I(V(0),V(1))_3</title>\r\n<path fill=\"none\" stroke=\"black\" d=\"M531.545,-145.638C490.109,-133.082 432.219,-115.539 393.315,-103.75\"/>\r\n</g>\r\n</g>\r\n</svg>\r\n",
      "text/plain": [
       "<graphviz.dot.Graph at 0x170e89f9c88>"
      ]
     },
     "execution_count": 18,
     "metadata": {},
     "output_type": "execute_result"
    }
   ],
   "source": [
    "CH.prova([],[\"I(I(I(V(0),V(1)),V(0)),V(0))\"],True, tempo = True)"
   ]
  },
  {
   "cell_type": "code",
   "execution_count": 19,
   "metadata": {},
   "outputs": [
    {
     "name": "stdout",
     "output_type": "stream",
     "text": [
      "0.0\n"
     ]
    },
    {
     "data": {
      "text/plain": [
       "True"
      ]
     },
     "execution_count": 19,
     "metadata": {},
     "output_type": "execute_result"
    }
   ],
   "source": [
    "CH.prova_semantica([],[\"I(I(I(V(0),V(1)),V(0)),V(0))\"],True, tempo = True)"
   ]
  },
  {
   "cell_type": "code",
   "execution_count": 20,
   "metadata": {},
   "outputs": [
    {
     "name": "stdout",
     "output_type": "stream",
     "text": [
      "tempo de execução (nao conta com o desenhar da arvor): 0.0009996891021728516\n"
     ]
    },
    {
     "data": {
      "image/svg+xml": "<?xml version=\"1.0\" encoding=\"UTF-8\" standalone=\"no\"?>\r\n<!DOCTYPE svg PUBLIC \"-//W3C//DTD SVG 1.1//EN\"\r\n \"http://www.w3.org/Graphics/SVG/1.1/DTD/svg11.dtd\">\r\n<!-- Generated by graphviz version 2.38.0 (20140413.2041)\r\n -->\r\n<!-- Title: %3 Pages: 1 -->\r\n<svg width=\"246pt\" height=\"188pt\"\r\n viewBox=\"0.00 0.00 245.84 188.00\" xmlns=\"http://www.w3.org/2000/svg\" xmlns:xlink=\"http://www.w3.org/1999/xlink\">\r\n<g id=\"graph0\" class=\"graph\" transform=\"scale(1 1) rotate(0) translate(4 184)\">\r\n<title>%3</title>\r\n<polygon fill=\"white\" stroke=\"none\" points=\"-4,4 -4,-184 241.84,-184 241.84,4 -4,4\"/>\r\n<!-- [&#39;V(0)&#39;] -->\r\n<g id=\"node1\" class=\"node\"><title>[&#39;V(0)&#39;]</title>\r\n<ellipse fill=\"none\" stroke=\"black\" cx=\"112.746\" cy=\"-18\" rx=\"37.0935\" ry=\"18\"/>\r\n<text text-anchor=\"middle\" x=\"112.746\" y=\"-14.3\" font-family=\"Times New Roman,serif\" font-size=\"14.00\">[&#39;V(0)&#39;]</text>\r\n</g>\r\n<!-- N(V(0))_2 -->\r\n<g id=\"node2\" class=\"node\"><title>N(V(0))_2</title>\r\n<ellipse fill=\"none\" stroke=\"black\" cx=\"48.7457\" cy=\"-90\" rx=\"48.9926\" ry=\"18\"/>\r\n<text text-anchor=\"middle\" x=\"48.7457\" y=\"-86.3\" font-family=\"Times New Roman,serif\" font-size=\"14.00\">N(V(0))_2</text>\r\n</g>\r\n<!-- N(V(0))_2&#45;&#45;[&#39;V(0)&#39;] -->\r\n<g id=\"edge1\" class=\"edge\"><title>N(V(0))_2&#45;&#45;[&#39;V(0)&#39;]</title>\r\n<path fill=\"none\" stroke=\"black\" d=\"M63.5894,-72.7646C74.0765,-61.2944 88.0538,-46.0068 98.4227,-34.6658\"/>\r\n</g>\r\n<!-- *_4 -->\r\n<g id=\"node3\" class=\"node\"><title>*_4</title>\r\n<ellipse fill=\"none\" stroke=\"black\" cx=\"48.7457\" cy=\"-162\" rx=\"27\" ry=\"18\"/>\r\n<text text-anchor=\"middle\" x=\"48.7457\" y=\"-158.3\" font-family=\"Times New Roman,serif\" font-size=\"14.00\">*_4</text>\r\n</g>\r\n<!-- *_4&#45;&#45;N(V(0))_2 -->\r\n<g id=\"edge2\" class=\"edge\"><title>*_4&#45;&#45;N(V(0))_2</title>\r\n<path fill=\"none\" stroke=\"black\" d=\"M48.7457,-143.697C48.7457,-132.846 48.7457,-118.917 48.7457,-108.104\"/>\r\n</g>\r\n<!-- N(N(V(0)))_3 -->\r\n<g id=\"node4\" class=\"node\"><title>N(N(V(0)))_3</title>\r\n<ellipse fill=\"none\" stroke=\"black\" cx=\"176.746\" cy=\"-90\" rx=\"61.1893\" ry=\"18\"/>\r\n<text text-anchor=\"middle\" x=\"176.746\" y=\"-86.3\" font-family=\"Times New Roman,serif\" font-size=\"14.00\">N(N(V(0)))_3</text>\r\n</g>\r\n<!-- N(N(V(0)))_3&#45;&#45;[&#39;V(0)&#39;] -->\r\n<g id=\"edge3\" class=\"edge\"><title>N(N(V(0)))_3&#45;&#45;[&#39;V(0)&#39;]</title>\r\n<path fill=\"none\" stroke=\"black\" d=\"M161.579,-72.411C151.229,-61.0907 137.594,-46.1782 127.363,-34.9881\"/>\r\n</g>\r\n</g>\r\n</svg>\r\n",
      "text/plain": [
       "<graphviz.dot.Graph at 0x170e8cc7108>"
      ]
     },
     "execution_count": 20,
     "metadata": {},
     "output_type": "execute_result"
    }
   ],
   "source": [
    "CH.prova([\"V(0)\"],[\"N(N(V(0)))\"],True, tempo = True)"
   ]
  },
  {
   "cell_type": "code",
   "execution_count": 21,
   "metadata": {},
   "outputs": [
    {
     "name": "stdout",
     "output_type": "stream",
     "text": [
      "tempo de execução (nao conta com o desenhar da arvor): 0.0010004043579101562\n"
     ]
    },
    {
     "data": {
      "image/svg+xml": "<?xml version=\"1.0\" encoding=\"UTF-8\" standalone=\"no\"?>\r\n<!DOCTYPE svg PUBLIC \"-//W3C//DTD SVG 1.1//EN\"\r\n \"http://www.w3.org/Graphics/SVG/1.1/DTD/svg11.dtd\">\r\n<!-- Generated by graphviz version 2.38.0 (20140413.2041)\r\n -->\r\n<!-- Title: %3 Pages: 1 -->\r\n<svg width=\"196pt\" height=\"188pt\"\r\n viewBox=\"0.00 0.00 196.14 188.00\" xmlns=\"http://www.w3.org/2000/svg\" xmlns:xlink=\"http://www.w3.org/1999/xlink\">\r\n<g id=\"graph0\" class=\"graph\" transform=\"scale(1 1) rotate(0) translate(4 184)\">\r\n<title>%3</title>\r\n<polygon fill=\"white\" stroke=\"none\" points=\"-4,4 -4,-184 192.142,-184 192.142,4 -4,4\"/>\r\n<!-- [&#39;N(N(V(0)))&#39;] -->\r\n<g id=\"node1\" class=\"node\"><title>[&#39;N(N(V(0)))&#39;]</title>\r\n<ellipse fill=\"none\" stroke=\"black\" cx=\"87.3968\" cy=\"-18\" rx=\"61.99\" ry=\"18\"/>\r\n<text text-anchor=\"middle\" x=\"87.3968\" y=\"-14.3\" font-family=\"Times New Roman,serif\" font-size=\"14.00\">[&#39;N(N(V(0)))&#39;]</text>\r\n</g>\r\n<!-- V(0)_2 -->\r\n<g id=\"node2\" class=\"node\"><title>V(0)_2</title>\r\n<ellipse fill=\"none\" stroke=\"black\" cx=\"36.3968\" cy=\"-90\" rx=\"36.2938\" ry=\"18\"/>\r\n<text text-anchor=\"middle\" x=\"36.3968\" y=\"-86.3\" font-family=\"Times New Roman,serif\" font-size=\"14.00\">V(0)_2</text>\r\n</g>\r\n<!-- V(0)_2&#45;&#45;[&#39;N(N(V(0)))&#39;] -->\r\n<g id=\"edge1\" class=\"edge\"><title>V(0)_2&#45;&#45;[&#39;N(N(V(0)))&#39;]</title>\r\n<path fill=\"none\" stroke=\"black\" d=\"M48.2254,-72.7646C56.2292,-61.7791 66.7841,-47.2919 74.9208,-36.1239\"/>\r\n</g>\r\n<!-- N(V(0))_3 -->\r\n<g id=\"node3\" class=\"node\"><title>N(V(0))_3</title>\r\n<ellipse fill=\"none\" stroke=\"black\" cx=\"139.397\" cy=\"-90\" rx=\"48.9926\" ry=\"18\"/>\r\n<text text-anchor=\"middle\" x=\"139.397\" y=\"-86.3\" font-family=\"Times New Roman,serif\" font-size=\"14.00\">N(V(0))_3</text>\r\n</g>\r\n<!-- N(V(0))_3&#45;&#45;[&#39;N(N(V(0)))&#39;] -->\r\n<g id=\"edge2\" class=\"edge\"><title>N(V(0))_3&#45;&#45;[&#39;N(N(V(0)))&#39;]</title>\r\n<path fill=\"none\" stroke=\"black\" d=\"M127.073,-72.411C118.904,-61.4141 108.217,-47.0274 99.9928,-35.9562\"/>\r\n</g>\r\n<!-- *_4 -->\r\n<g id=\"node4\" class=\"node\"><title>*_4</title>\r\n<ellipse fill=\"none\" stroke=\"black\" cx=\"139.397\" cy=\"-162\" rx=\"27\" ry=\"18\"/>\r\n<text text-anchor=\"middle\" x=\"139.397\" y=\"-158.3\" font-family=\"Times New Roman,serif\" font-size=\"14.00\">*_4</text>\r\n</g>\r\n<!-- *_4&#45;&#45;N(V(0))_3 -->\r\n<g id=\"edge3\" class=\"edge\"><title>*_4&#45;&#45;N(V(0))_3</title>\r\n<path fill=\"none\" stroke=\"black\" d=\"M139.397,-143.697C139.397,-132.846 139.397,-118.917 139.397,-108.104\"/>\r\n</g>\r\n</g>\r\n</svg>\r\n",
      "text/plain": [
       "<graphviz.dot.Graph at 0x170e8d0b0c8>"
      ]
     },
     "execution_count": 21,
     "metadata": {},
     "output_type": "execute_result"
    }
   ],
   "source": [
    "CH.prova([\"N(N(V(0)))\"],[\"V(0)\"],True, tempo = True)"
   ]
  },
  {
   "cell_type": "code",
   "execution_count": 22,
   "metadata": {},
   "outputs": [
    {
     "name": "stdout",
     "output_type": "stream",
     "text": [
      "tempo de execução (nao conta com o desenhar da arvor): 0.008975505828857422\n"
     ]
    },
    {
     "data": {
      "image/svg+xml": "<?xml version=\"1.0\" encoding=\"UTF-8\" standalone=\"no\"?>\r\n<!DOCTYPE svg PUBLIC \"-//W3C//DTD SVG 1.1//EN\"\r\n \"http://www.w3.org/Graphics/SVG/1.1/DTD/svg11.dtd\">\r\n<!-- Generated by graphviz version 2.38.0 (20140413.2041)\r\n -->\r\n<!-- Title: %3 Pages: 1 -->\r\n<svg width=\"487pt\" height=\"332pt\"\r\n viewBox=\"0.00 0.00 486.89 332.00\" xmlns=\"http://www.w3.org/2000/svg\" xmlns:xlink=\"http://www.w3.org/1999/xlink\">\r\n<g id=\"graph0\" class=\"graph\" transform=\"scale(1 1) rotate(0) translate(4 328)\">\r\n<title>%3</title>\r\n<polygon fill=\"white\" stroke=\"none\" points=\"-4,4 -4,-328 482.886,-328 482.886,4 -4,4\"/>\r\n<!-- [&#39;N(E(V(0),V(1)))&#39;] -->\r\n<g id=\"node1\" class=\"node\"><title>[&#39;N(E(V(0),V(1)))&#39;]</title>\r\n<ellipse fill=\"none\" stroke=\"black\" cx=\"290.944\" cy=\"-18\" rx=\"79.0865\" ry=\"18\"/>\r\n<text text-anchor=\"middle\" x=\"290.944\" y=\"-14.3\" font-family=\"Times New Roman,serif\" font-size=\"14.00\">[&#39;N(E(V(0),V(1)))&#39;]</text>\r\n</g>\r\n<!-- V(0)_2 -->\r\n<g id=\"node2\" class=\"node\"><title>V(0)_2</title>\r\n<ellipse fill=\"none\" stroke=\"black\" cx=\"225.944\" cy=\"-90\" rx=\"36.2938\" ry=\"18\"/>\r\n<text text-anchor=\"middle\" x=\"225.944\" y=\"-86.3\" font-family=\"Times New Roman,serif\" font-size=\"14.00\">V(0)_2</text>\r\n</g>\r\n<!-- V(0)_2&#45;&#45;[&#39;N(E(V(0),V(1)))&#39;] -->\r\n<g id=\"edge1\" class=\"edge\"><title>V(0)_2&#45;&#45;[&#39;N(E(V(0),V(1)))&#39;]</title>\r\n<path fill=\"none\" stroke=\"black\" d=\"M240.37,-73.4647C250.692,-62.3479 264.582,-47.3896 275.194,-35.9618\"/>\r\n</g>\r\n<!-- V(1)_4 -->\r\n<g id=\"node3\" class=\"node\"><title>V(1)_4</title>\r\n<ellipse fill=\"none\" stroke=\"black\" cx=\"85.9441\" cy=\"-162\" rx=\"36.2938\" ry=\"18\"/>\r\n<text text-anchor=\"middle\" x=\"85.9441\" y=\"-158.3\" font-family=\"Times New Roman,serif\" font-size=\"14.00\">V(1)_4</text>\r\n</g>\r\n<!-- V(1)_4&#45;&#45;V(0)_2 -->\r\n<g id=\"edge2\" class=\"edge\"><title>V(1)_4&#45;&#45;V(0)_2</title>\r\n<path fill=\"none\" stroke=\"black\" d=\"M110.651,-148.647C136.084,-135.93 175.498,-116.223 201.013,-103.465\"/>\r\n</g>\r\n<!-- E(V(0),V(1))_6 -->\r\n<g id=\"node4\" class=\"node\"><title>E(V(0),V(1))_6</title>\r\n<ellipse fill=\"none\" stroke=\"black\" cx=\"66.9441\" cy=\"-234\" rx=\"66.8882\" ry=\"18\"/>\r\n<text text-anchor=\"middle\" x=\"66.9441\" y=\"-230.3\" font-family=\"Times New Roman,serif\" font-size=\"14.00\">E(V(0),V(1))_6</text>\r\n</g>\r\n<!-- E(V(0),V(1))_6&#45;&#45;V(1)_4 -->\r\n<g id=\"edge3\" class=\"edge\"><title>E(V(0),V(1))_6&#45;&#45;V(1)_4</title>\r\n<path fill=\"none\" stroke=\"black\" d=\"M71.6407,-215.697C74.5858,-204.846 78.3667,-190.917 81.3015,-180.104\"/>\r\n</g>\r\n<!-- *_7 -->\r\n<g id=\"node5\" class=\"node\"><title>*_7</title>\r\n<ellipse fill=\"none\" stroke=\"black\" cx=\"66.9441\" cy=\"-306\" rx=\"27\" ry=\"18\"/>\r\n<text text-anchor=\"middle\" x=\"66.9441\" y=\"-302.3\" font-family=\"Times New Roman,serif\" font-size=\"14.00\">*_7</text>\r\n</g>\r\n<!-- *_7&#45;&#45;E(V(0),V(1))_6 -->\r\n<g id=\"edge4\" class=\"edge\"><title>*_7&#45;&#45;E(V(0),V(1))_6</title>\r\n<path fill=\"none\" stroke=\"black\" d=\"M66.9441,-287.697C66.9441,-276.846 66.9441,-262.917 66.9441,-252.104\"/>\r\n</g>\r\n<!-- N(V(1))_5 -->\r\n<g id=\"node6\" class=\"node\"><title>N(V(1))_5</title>\r\n<ellipse fill=\"none\" stroke=\"black\" cx=\"225.944\" cy=\"-162\" rx=\"48.9926\" ry=\"18\"/>\r\n<text text-anchor=\"middle\" x=\"225.944\" y=\"-158.3\" font-family=\"Times New Roman,serif\" font-size=\"14.00\">N(V(1))_5</text>\r\n</g>\r\n<!-- N(V(1))_5&#45;&#45;V(0)_2 -->\r\n<g id=\"edge5\" class=\"edge\"><title>N(V(1))_5&#45;&#45;V(0)_2</title>\r\n<path fill=\"none\" stroke=\"black\" d=\"M225.944,-143.697C225.944,-132.846 225.944,-118.917 225.944,-108.104\"/>\r\n</g>\r\n<!-- O(N(V(0)),N(V(1)))_8 -->\r\n<g id=\"node7\" class=\"node\"><title>O(N(V(0)),N(V(1)))_8</title>\r\n<ellipse fill=\"none\" stroke=\"black\" cx=\"244.944\" cy=\"-234\" rx=\"92.8835\" ry=\"18\"/>\r\n<text text-anchor=\"middle\" x=\"244.944\" y=\"-230.3\" font-family=\"Times New Roman,serif\" font-size=\"14.00\">O(N(V(0)),N(V(1)))_8</text>\r\n</g>\r\n<!-- O(N(V(0)),N(V(1)))_8&#45;&#45;N(V(1))_5 -->\r\n<g id=\"edge6\" class=\"edge\"><title>O(N(V(0)),N(V(1)))_8&#45;&#45;N(V(1))_5</title>\r\n<path fill=\"none\" stroke=\"black\" d=\"M240.247,-215.697C237.302,-204.846 233.521,-190.917 230.587,-180.104\"/>\r\n</g>\r\n<!-- N(V(0))_3 -->\r\n<g id=\"node8\" class=\"node\"><title>N(V(0))_3</title>\r\n<ellipse fill=\"none\" stroke=\"black\" cx=\"356.944\" cy=\"-90\" rx=\"48.9926\" ry=\"18\"/>\r\n<text text-anchor=\"middle\" x=\"356.944\" y=\"-86.3\" font-family=\"Times New Roman,serif\" font-size=\"14.00\">N(V(0))_3</text>\r\n</g>\r\n<!-- N(V(0))_3&#45;&#45;[&#39;N(E(V(0),V(1)))&#39;] -->\r\n<g id=\"edge7\" class=\"edge\"><title>N(V(0))_3&#45;&#45;[&#39;N(E(V(0),V(1)))&#39;]</title>\r\n<path fill=\"none\" stroke=\"black\" d=\"M341.636,-72.7646C331.279,-61.7791 317.619,-47.2919 307.089,-36.1239\"/>\r\n</g>\r\n<!-- O(N(V(0)),N(V(1)))_9 -->\r\n<g id=\"node9\" class=\"node\"><title>O(N(V(0)),N(V(1)))_9</title>\r\n<ellipse fill=\"none\" stroke=\"black\" cx=\"385.944\" cy=\"-162\" rx=\"92.8835\" ry=\"18\"/>\r\n<text text-anchor=\"middle\" x=\"385.944\" y=\"-158.3\" font-family=\"Times New Roman,serif\" font-size=\"14.00\">O(N(V(0)),N(V(1)))_9</text>\r\n</g>\r\n<!-- O(N(V(0)),N(V(1)))_9&#45;&#45;N(V(0))_3 -->\r\n<g id=\"edge8\" class=\"edge\"><title>O(N(V(0)),N(V(1)))_9&#45;&#45;N(V(0))_3</title>\r\n<path fill=\"none\" stroke=\"black\" d=\"M378.776,-143.697C374.28,-132.846 368.51,-118.917 364.03,-108.104\"/>\r\n</g>\r\n</g>\r\n</svg>\r\n",
      "text/plain": [
       "<graphviz.dot.Graph at 0x170e8ca5748>"
      ]
     },
     "execution_count": 22,
     "metadata": {},
     "output_type": "execute_result"
    }
   ],
   "source": [
    "CH.prova([\"N(E(V(0),V(1)))\"],[\"O(N(V(0)),N(V(1)))\"],True, tempo = True)"
   ]
  },
  {
   "cell_type": "code",
   "execution_count": 23,
   "metadata": {},
   "outputs": [
    {
     "name": "stdout",
     "output_type": "stream",
     "text": [
      "tempo de execução (nao conta com o desenhar da arvor): 0.0\n"
     ]
    },
    {
     "data": {
      "text/plain": [
       "{'V(0)': 't', 'N(V(0))': 'f'}"
      ]
     },
     "execution_count": 23,
     "metadata": {},
     "output_type": "execute_result"
    }
   ],
   "source": [
    "CH.prova([\"V(0)\"],[\"N(V(0))\"],True, tempo = True, contra_modelo = True)"
   ]
  },
  {
   "cell_type": "code",
   "execution_count": 24,
   "metadata": {},
   "outputs": [
    {
     "name": "stdout",
     "output_type": "stream",
     "text": [
      "0.0\n"
     ]
    },
    {
     "data": {
      "text/plain": [
       "{'V(0)': 't'}"
      ]
     },
     "execution_count": 24,
     "metadata": {},
     "output_type": "execute_result"
    }
   ],
   "source": [
    "CH.prova_semantica([\"V(0)\"],[\"N(V(0))\"],True, tempo = True)"
   ]
  },
  {
   "cell_type": "code",
   "execution_count": 25,
   "metadata": {},
   "outputs": [
    {
     "name": "stdout",
     "output_type": "stream",
     "text": [
      "tempo de execução (nao conta com o desenhar da arvor): 0.008976221084594727\n"
     ]
    },
    {
     "data": {
      "text/plain": [
       "{'V(0)': 't',\n",
       " 'V(1)': 't',\n",
       " 'V(2)': 't',\n",
       " 'I(V(1),V(2))': 't',\n",
       " 'I(V(0),I(V(1),V(2)))': 't',\n",
       " 'E(V(1),V(2))': 't',\n",
       " 'I(V(2),V(1))': 't',\n",
       " 'N(I(V(2),V(1)))': 'f',\n",
       " 'N(V(0))': 'f'}"
      ]
     },
     "execution_count": 25,
     "metadata": {},
     "output_type": "execute_result"
    }
   ],
   "source": [
    "CH.prova([\"I(V(0),I(V(1),V(2)))\",\"E(V(1),V(2))\"],[\"N(I(V(2),V(1)))\",\"N(V(0))\"],False, tempo = True,contra_modelo=True)"
   ]
  },
  {
   "cell_type": "code",
   "execution_count": 26,
   "metadata": {},
   "outputs": [
    {
     "name": "stdout",
     "output_type": "stream",
     "text": [
      "0.0\n"
     ]
    },
    {
     "data": {
      "text/plain": [
       "{'V(0)': 't', 'V(1)': 't', 'V(2)': 't'}"
      ]
     },
     "execution_count": 26,
     "metadata": {},
     "output_type": "execute_result"
    }
   ],
   "source": [
    "CH.prova_semantica([\"I(V(0),I(V(1),V(2)))\",\"E(V(1),V(2))\"],[\"N(I(V(2),V(1)))\",\"N(V(0))\"],False, tempo = True)"
   ]
  },
  {
   "cell_type": "markdown",
   "metadata": {},
   "source": [
    "Nas próximas linhas cria-se a lógica do exemplo 3.9 da página 12"
   ]
  },
  {
   "cell_type": "code",
   "execution_count": 27,
   "metadata": {},
   "outputs": [],
   "source": [
    "T = logica([\"B\"],[2],[\"V(0)\",\"B(V(0),V(0))\"]) #os valores de verdade são {0,1,2} e \"{p,B(p,p)}\" é um separador\n",
    "#os simbolos sao representados por uma letra apenas\n",
    "# B é o único conetor, a \"bola\""
   ]
  },
  {
   "cell_type": "code",
   "execution_count": 28,
   "metadata": {},
   "outputs": [],
   "source": [
    "T.adiciona_regra_inferencia([],[\"B(B(V(0),V(1)),B(V(0),V(1)))\"],[\"V(0)\",\"V(1)\"])\n",
    "T.adiciona_regra_inferencia([\"V(1)\"],[\"B(V(0),V(1))\"],[\"V(0)\",\"V(1)\"])\n",
    "T.adiciona_regra_inferencia([\"B(V(1),V(1))\"],[\"V(1)\",\"B(V(0),V(1))\"],[\"V(0)\",\"V(1)\"])\n",
    "T.adiciona_regra_inferencia([\"B(V(0),V(0))\"],[\"V(0)\",\"B(V(0),V(1))\"],[\"V(0)\",\"V(1)\"])\n",
    "T.adiciona_regra_inferencia([\"V(0)\",\"B(V(0),V(1))\"],[\"B(V(1),V(1))\"],[\"V(0)\",\"V(1)\"])\n",
    "T.adiciona_regra_inferencia([\"B(V(0),V(1))\"],[\"B(V(0),V(0))\",\"B(V(1),V(1))\"],[\"V(0)\",\"V(1)\"])\n",
    "\n",
    "#dicionario = {\"B(0,0)\":[\"1\"],\n",
    "#              \"B(0,1)\":[\"2\"],\n",
    "#              \"B(0,2)\":[\"2\"],\n",
    "#              \"B(1,0)\":[\"2\"],\n",
    "#              \"B(1,1)\":[\"2\"],\n",
    "#              \"B(1,2)\":[\"2\"],\n",
    "#              \"B(2,0)\":[\"1\"],\n",
    "#              \"B(2,1)\":[\"2\"],\n",
    "#              \"B(2,2)\":[\"2\"]}\n",
    "\n",
    "#T.adiciona_atribuiçoes(dicionario)\n",
    "#T.adiciona_valores_de_verdade([\"0\",\"1\",\"2\"],[\"2\"])"
   ]
  },
  {
   "cell_type": "code",
   "execution_count": 30,
   "metadata": {},
   "outputs": [
    {
     "name": "stdout",
     "output_type": "stream",
     "text": [
      "tempo de execução (nao conta com o desenhar da arvor): 0.0010285377502441406\n"
     ]
    },
    {
     "data": {
      "text/plain": [
       "['B(B(V(0),V(0)),B(V(0),V(0)))']"
      ]
     },
     "execution_count": 30,
     "metadata": {},
     "output_type": "execute_result"
    }
   ],
   "source": [
    "T.prova([],[\"V(0)\",\"B(V(0),V(0))\"],True, tempo = True)"
   ]
  },
  {
   "cell_type": "code",
   "execution_count": 32,
   "metadata": {},
   "outputs": [
    {
     "name": "stdout",
     "output_type": "stream",
     "text": [
      "tempo de execução (nao conta com o desenhar da arvor): 0.0029916763305664062\n"
     ]
    },
    {
     "data": {
      "image/svg+xml": "<?xml version=\"1.0\" encoding=\"UTF-8\" standalone=\"no\"?>\r\n<!DOCTYPE svg PUBLIC \"-//W3C//DTD SVG 1.1//EN\"\r\n \"http://www.w3.org/Graphics/SVG/1.1/DTD/svg11.dtd\">\r\n<!-- Generated by graphviz version 2.38.0 (20140413.2041)\r\n -->\r\n<!-- Title: %3 Pages: 1 -->\r\n<svg width=\"326pt\" height=\"116pt\"\r\n viewBox=\"0.00 0.00 326.47 116.00\" xmlns=\"http://www.w3.org/2000/svg\" xmlns:xlink=\"http://www.w3.org/1999/xlink\">\r\n<g id=\"graph0\" class=\"graph\" transform=\"scale(1 1) rotate(0) translate(4 112)\">\r\n<title>%3</title>\r\n<polygon fill=\"white\" stroke=\"none\" points=\"-4,4 -4,-112 322.472,-112 322.472,4 -4,4\"/>\r\n<!-- [&#39;V(0)&#39;] -->\r\n<g id=\"node1\" class=\"node\"><title>[&#39;V(0)&#39;]</title>\r\n<ellipse fill=\"none\" stroke=\"black\" cx=\"159.236\" cy=\"-18\" rx=\"37.0935\" ry=\"18\"/>\r\n<text text-anchor=\"middle\" x=\"159.236\" y=\"-14.3\" font-family=\"Times New Roman,serif\" font-size=\"14.00\">[&#39;V(0)&#39;]</text>\r\n</g>\r\n<!-- B(B(B(B(V(0),V(0)),V(0)),V(0)),V(0))_2 -->\r\n<g id=\"node2\" class=\"node\"><title>B(B(B(B(V(0),V(0)),V(0)),V(0)),V(0))_2</title>\r\n<ellipse fill=\"none\" stroke=\"black\" cx=\"159.236\" cy=\"-90\" rx=\"159.472\" ry=\"18\"/>\r\n<text text-anchor=\"middle\" x=\"159.236\" y=\"-86.3\" font-family=\"Times New Roman,serif\" font-size=\"14.00\">B(B(B(B(V(0),V(0)),V(0)),V(0)),V(0))_2</text>\r\n</g>\r\n<!-- B(B(B(B(V(0),V(0)),V(0)),V(0)),V(0))_2&#45;&#45;[&#39;V(0)&#39;] -->\r\n<g id=\"edge1\" class=\"edge\"><title>B(B(B(B(V(0),V(0)),V(0)),V(0)),V(0))_2&#45;&#45;[&#39;V(0)&#39;]</title>\r\n<path fill=\"none\" stroke=\"black\" d=\"M159.236,-71.6966C159.236,-60.8463 159.236,-46.9167 159.236,-36.1043\"/>\r\n</g>\r\n</g>\r\n</svg>\r\n",
      "text/plain": [
       "<graphviz.dot.Graph at 0x170e8ca29c8>"
      ]
     },
     "execution_count": 32,
     "metadata": {},
     "output_type": "execute_result"
    }
   ],
   "source": [
    "T.prova([\"V(0)\"],[\"B(B(B(B(V(0),V(0)),V(0)),V(0)),V(0))\"],True, tempo = True)"
   ]
  },
  {
   "cell_type": "code",
   "execution_count": 33,
   "metadata": {},
   "outputs": [
    {
     "name": "stdout",
     "output_type": "stream",
     "text": [
      "tempo de execução (nao conta com o desenhar da arvor): 0.0029914379119873047\n"
     ]
    },
    {
     "data": {
      "text/plain": [
       "['B(B(B(B(V(0),V(0)),V(0)),V(0)),V(0))',\n",
       " 'B(B(V(0),V(0)),B(V(0),V(0)))',\n",
       " 'B(B(B(V(0),V(0)),V(0)),B(B(V(0),V(0)),V(0)))',\n",
       " 'B(B(B(B(V(0),V(0)),V(0)),V(0)),B(B(B(V(0),V(0)),V(0)),V(0)))',\n",
       " 'B(B(B(B(B(V(0),V(0)),V(0)),V(0)),V(0)),B(B(B(B(V(0),V(0)),V(0)),V(0)),V(0)))',\n",
       " 'B(B(V(0),V(0)),V(0))']"
      ]
     },
     "execution_count": 33,
     "metadata": {},
     "output_type": "execute_result"
    }
   ],
   "source": [
    "T.prova([\"B(B(B(B(V(0),V(0)),V(0)),V(0)),V(0))\"],[\"V(0)\",\"B(V(0),V(0))\"],True, tempo = True)"
   ]
  },
  {
   "cell_type": "code",
   "execution_count": 34,
   "metadata": {
    "scrolled": true
   },
   "outputs": [
    {
     "name": "stdout",
     "output_type": "stream",
     "text": [
      "tempo de execução (nao conta com o desenhar da arvor): 0.005020618438720703\n"
     ]
    },
    {
     "data": {
      "text/plain": [
       "['B(V(0),V(1))',\n",
       " 'B(V(1),V(2))',\n",
       " 'B(B(V(0),V(1)),B(V(0),V(1)))',\n",
       " 'B(B(V(0),V(2)),B(V(0),V(2)))',\n",
       " 'B(B(V(1),V(2)),B(V(1),V(2)))',\n",
       " 'B(V(0),V(0))',\n",
       " 'V(0)',\n",
       " 'B(V(1),V(1))']"
      ]
     },
     "execution_count": 34,
     "metadata": {},
     "output_type": "execute_result"
    }
   ],
   "source": [
    "T.prova([\"B(V(0),V(1))\",\"B(V(1),V(2))\"],[\"B(V(0),V(2))\"],True, tempo = True)"
   ]
  },
  {
   "cell_type": "markdown",
   "metadata": {},
   "source": [
    "Nas próximas linhas cria-se a lógica do exemplo 3.10 da página 13"
   ]
  },
  {
   "cell_type": "code",
   "execution_count": 35,
   "metadata": {},
   "outputs": [],
   "source": [
    "S = logica([\"E\",\"O\",\"N\"],[2,2,1],[\"V(0)\",\"N(V(0))\"]) #há 4 valores de verdade e \"{p,N(p)}\" é um separador\n",
    "#os simbolos sao representados por uma letra apenas\n",
    "# N é o \"não\"\n",
    "# E é a conjunção \"e\"\n",
    "# O é a conjunção \"ou\""
   ]
  },
  {
   "cell_type": "code",
   "execution_count": 36,
   "metadata": {},
   "outputs": [],
   "source": [
    "S.adiciona_regra_inferencia([\"V(0)\",\"V(1)\"],[\"E(V(0),V(1))\"],[\"V(0)\",\"V(1)\"])\n",
    "S.adiciona_regra_inferencia([\"E(V(0),V(1))\"],[\"V(0)\"],[\"V(0)\",\"V(1)\"])\n",
    "S.adiciona_regra_inferencia([\"E(V(0),V(1))\"],[\"V(1)\"],[\"V(0)\",\"V(1)\"])\n",
    "S.adiciona_regra_inferencia([\"N(V(0))\"],[\"N(E(V(0),V(1)))\"],[\"V(0)\",\"V(1)\"])\n",
    "S.adiciona_regra_inferencia([\"N(V(1))\"],[\"N(E(V(0),V(1)))\"],[\"V(0)\",\"V(1)\"])\n",
    "S.adiciona_regra_inferencia([\"V(0)\"],[\"O(V(0),V(1))\"],[\"V(0)\",\"V(1)\"])\n",
    "S.adiciona_regra_inferencia([\"V(1)\"],[\"O(V(0),V(1))\"],[\"V(0)\",\"V(1)\"])\n",
    "S.adiciona_regra_inferencia([\"N(O(V(0),V(1)))\"],[\"N(V(0))\"],[\"V(0)\",\"V(1)\"])\n",
    "S.adiciona_regra_inferencia([\"N(O(V(0),V(1)))\"],[\"N(V(1))\"],[\"V(0)\",\"V(1)\"])\n",
    "S.adiciona_regra_inferencia([\"N(V(0))\",\"N(V(1))\"],[\"N(O(V(0),V(1)))\"],[\"V(0)\",\"V(1)\"])\n",
    "S.adiciona_regra_inferencia([\"V(0)\"],[\"N(N(V(0)))\"],[\"V(0)\"])\n",
    "S.adiciona_regra_inferencia([\"N(N(V(0)))\"],[\"V(0)\"],[\"V(0)\"])\n",
    "\n",
    "dicionario = {\"N(t)\":[\"f\"],\"N(f)\":[\"t\"],\"N(T)\":[\"T\"],\"N(F)\":[\"F\"]}\n",
    "\n",
    "dicionario[\"E(f,f)\"]=[\"f\"]\n",
    "dicionario[\"E(f,F)\"]=[\"f\"]\n",
    "dicionario[\"E(f,T)\"]=[\"f\"]\n",
    "dicionario[\"E(f,t)\"]=[\"f\"]\n",
    "\n",
    "dicionario[\"E(F,f)\"]=[\"f\"]\n",
    "dicionario[\"E(F,F)\"]=[\"f\",\"F\"]\n",
    "dicionario[\"E(F,T)\"]=[\"f\"]\n",
    "dicionario[\"E(F,t)\"]=[\"f\",\"F\"]\n",
    "\n",
    "dicionario[\"E(T,f)\"]=[\"f\"]\n",
    "dicionario[\"E(T,F)\"]=[\"f\"]\n",
    "dicionario[\"E(T,T)\"]=[\"T\"]\n",
    "dicionario[\"E(T,t)\"]=[\"T\"]\n",
    "\n",
    "dicionario[\"E(t,f)\"]=[\"f\"]\n",
    "dicionario[\"E(t,F)\"]=[\"f\",\"F\"]\n",
    "dicionario[\"E(t,T)\"]=[\"T\"]\n",
    "dicionario[\"E(t,t)\"]=[\"t\",\"T\"]\n",
    "\n",
    "\n",
    "\n",
    "dicionario[\"O(f,f)\"]=[\"f\",\"T\"]\n",
    "dicionario[\"O(f,F)\"]=[\"t\",\"F\"]\n",
    "dicionario[\"O(f,T)\"]=[\"T\"]\n",
    "dicionario[\"O(f,t)\"]=[\"t\"]\n",
    "\n",
    "dicionario[\"O(F,f)\"]=[\"t\",\"F\"]\n",
    "dicionario[\"O(F,F)\"]=[\"t\",\"F\"]\n",
    "dicionario[\"O(F,T)\"]=[\"t\"]\n",
    "dicionario[\"O(F,t)\"]=[\"t\"]\n",
    "\n",
    "dicionario[\"O(T,f)\"]=[\"T\"]\n",
    "dicionario[\"O(T,F)\"]=[\"t\"]\n",
    "dicionario[\"O(T,T)\"]=[\"T\"]\n",
    "dicionario[\"O(T,t)\"]=[\"t\"]\n",
    "\n",
    "dicionario[\"O(t,f)\"]=[\"t\"]\n",
    "dicionario[\"O(t,F)\"]=[\"t\"]\n",
    "dicionario[\"O(t,T)\"]=[\"t\"]\n",
    "dicionario[\"O(t,t)\"]=[\"t\"]\n",
    "\n",
    "S.adiciona_atribuiçoes(dicionario)\n",
    "S.adiciona_valores_de_verdade([\"f\",\"F\",\"T\",\"t\"],[\"t\",\"T\"])"
   ]
  },
  {
   "cell_type": "code",
   "execution_count": 37,
   "metadata": {},
   "outputs": [
    {
     "name": "stdout",
     "output_type": "stream",
     "text": [
      "tempo de execução (nao conta com o desenhar da arvor): 0.005985260009765625\n"
     ]
    },
    {
     "data": {
      "image/svg+xml": "<?xml version=\"1.0\" encoding=\"UTF-8\" standalone=\"no\"?>\r\n<!DOCTYPE svg PUBLIC \"-//W3C//DTD SVG 1.1//EN\"\r\n \"http://www.w3.org/Graphics/SVG/1.1/DTD/svg11.dtd\">\r\n<!-- Generated by graphviz version 2.38.0 (20140413.2041)\r\n -->\r\n<!-- Title: %3 Pages: 1 -->\r\n<svg width=\"190pt\" height=\"260pt\"\r\n viewBox=\"0.00 0.00 189.98 260.00\" xmlns=\"http://www.w3.org/2000/svg\" xmlns:xlink=\"http://www.w3.org/1999/xlink\">\r\n<g id=\"graph0\" class=\"graph\" transform=\"scale(1 1) rotate(0) translate(4 256)\">\r\n<title>%3</title>\r\n<polygon fill=\"white\" stroke=\"none\" points=\"-4,4 -4,-256 185.984,-256 185.984,4 -4,4\"/>\r\n<!-- [&#39;N(O(V(0),V(1)))&#39;] -->\r\n<g id=\"node1\" class=\"node\"><title>[&#39;N(O(V(0),V(1)))&#39;]</title>\r\n<ellipse fill=\"none\" stroke=\"black\" cx=\"90.9919\" cy=\"-18\" rx=\"81.4863\" ry=\"18\"/>\r\n<text text-anchor=\"middle\" x=\"90.9919\" y=\"-14.3\" font-family=\"Times New Roman,serif\" font-size=\"14.00\">[&#39;N(O(V(0),V(1)))&#39;]</text>\r\n</g>\r\n<!-- N(V(0))_2 -->\r\n<g id=\"node2\" class=\"node\"><title>N(V(0))_2</title>\r\n<ellipse fill=\"none\" stroke=\"black\" cx=\"90.9919\" cy=\"-90\" rx=\"48.9926\" ry=\"18\"/>\r\n<text text-anchor=\"middle\" x=\"90.9919\" y=\"-86.3\" font-family=\"Times New Roman,serif\" font-size=\"14.00\">N(V(0))_2</text>\r\n</g>\r\n<!-- N(V(0))_2&#45;&#45;[&#39;N(O(V(0),V(1)))&#39;] -->\r\n<g id=\"edge1\" class=\"edge\"><title>N(V(0))_2&#45;&#45;[&#39;N(O(V(0),V(1)))&#39;]</title>\r\n<path fill=\"none\" stroke=\"black\" d=\"M90.9919,-71.6966C90.9919,-60.8463 90.9919,-46.9167 90.9919,-36.1043\"/>\r\n</g>\r\n<!-- N(V(1))_3 -->\r\n<g id=\"node3\" class=\"node\"><title>N(V(1))_3</title>\r\n<ellipse fill=\"none\" stroke=\"black\" cx=\"90.9919\" cy=\"-162\" rx=\"48.9926\" ry=\"18\"/>\r\n<text text-anchor=\"middle\" x=\"90.9919\" y=\"-158.3\" font-family=\"Times New Roman,serif\" font-size=\"14.00\">N(V(1))_3</text>\r\n</g>\r\n<!-- N(V(1))_3&#45;&#45;N(V(0))_2 -->\r\n<g id=\"edge2\" class=\"edge\"><title>N(V(1))_3&#45;&#45;N(V(0))_2</title>\r\n<path fill=\"none\" stroke=\"black\" d=\"M90.9919,-143.697C90.9919,-132.846 90.9919,-118.917 90.9919,-108.104\"/>\r\n</g>\r\n<!-- E(N(V(0)),N(V(1)))_4 -->\r\n<g id=\"node4\" class=\"node\"><title>E(N(V(0)),N(V(1)))_4</title>\r\n<ellipse fill=\"none\" stroke=\"black\" cx=\"90.9919\" cy=\"-234\" rx=\"90.9839\" ry=\"18\"/>\r\n<text text-anchor=\"middle\" x=\"90.9919\" y=\"-230.3\" font-family=\"Times New Roman,serif\" font-size=\"14.00\">E(N(V(0)),N(V(1)))_4</text>\r\n</g>\r\n<!-- E(N(V(0)),N(V(1)))_4&#45;&#45;N(V(1))_3 -->\r\n<g id=\"edge3\" class=\"edge\"><title>E(N(V(0)),N(V(1)))_4&#45;&#45;N(V(1))_3</title>\r\n<path fill=\"none\" stroke=\"black\" d=\"M90.9919,-215.697C90.9919,-204.846 90.9919,-190.917 90.9919,-180.104\"/>\r\n</g>\r\n</g>\r\n</svg>\r\n",
      "text/plain": [
       "<graphviz.dot.Graph at 0x170e8d21188>"
      ]
     },
     "execution_count": 37,
     "metadata": {},
     "output_type": "execute_result"
    }
   ],
   "source": [
    "S.prova([\"N(O(V(0),V(1)))\"],[\"E(N(V(0)),N(V(1)))\"],True, tempo = True,contra_modelo=True)"
   ]
  },
  {
   "cell_type": "code",
   "execution_count": 38,
   "metadata": {},
   "outputs": [
    {
     "name": "stdout",
     "output_type": "stream",
     "text": [
      "tempo de execução (nao conta com o desenhar da arvor): 0.00598454475402832\n"
     ]
    },
    {
     "data": {
      "image/svg+xml": "<?xml version=\"1.0\" encoding=\"UTF-8\" standalone=\"no\"?>\r\n<!DOCTYPE svg PUBLIC \"-//W3C//DTD SVG 1.1//EN\"\r\n \"http://www.w3.org/Graphics/SVG/1.1/DTD/svg11.dtd\">\r\n<!-- Generated by graphviz version 2.38.0 (20140413.2041)\r\n -->\r\n<!-- Title: %3 Pages: 1 -->\r\n<svg width=\"191pt\" height=\"260pt\"\r\n viewBox=\"0.00 0.00 191.28 260.00\" xmlns=\"http://www.w3.org/2000/svg\" xmlns:xlink=\"http://www.w3.org/1999/xlink\">\r\n<g id=\"graph0\" class=\"graph\" transform=\"scale(1 1) rotate(0) translate(4 256)\">\r\n<title>%3</title>\r\n<polygon fill=\"white\" stroke=\"none\" points=\"-4,4 -4,-256 187.284,-256 187.284,4 -4,4\"/>\r\n<!-- [&#39;E(N(V(0)),N(V(1)))&#39;] -->\r\n<g id=\"node1\" class=\"node\"><title>[&#39;E(N(V(0)),N(V(1)))&#39;]</title>\r\n<ellipse fill=\"none\" stroke=\"black\" cx=\"91.6419\" cy=\"-18\" rx=\"91.784\" ry=\"18\"/>\r\n<text text-anchor=\"middle\" x=\"91.6419\" y=\"-14.3\" font-family=\"Times New Roman,serif\" font-size=\"14.00\">[&#39;E(N(V(0)),N(V(1)))&#39;]</text>\r\n</g>\r\n<!-- N(V(0))_2 -->\r\n<g id=\"node2\" class=\"node\"><title>N(V(0))_2</title>\r\n<ellipse fill=\"none\" stroke=\"black\" cx=\"91.6419\" cy=\"-90\" rx=\"48.9926\" ry=\"18\"/>\r\n<text text-anchor=\"middle\" x=\"91.6419\" y=\"-86.3\" font-family=\"Times New Roman,serif\" font-size=\"14.00\">N(V(0))_2</text>\r\n</g>\r\n<!-- N(V(0))_2&#45;&#45;[&#39;E(N(V(0)),N(V(1)))&#39;] -->\r\n<g id=\"edge1\" class=\"edge\"><title>N(V(0))_2&#45;&#45;[&#39;E(N(V(0)),N(V(1)))&#39;]</title>\r\n<path fill=\"none\" stroke=\"black\" d=\"M91.6419,-71.6966C91.6419,-60.8463 91.6419,-46.9167 91.6419,-36.1043\"/>\r\n</g>\r\n<!-- N(V(1))_3 -->\r\n<g id=\"node3\" class=\"node\"><title>N(V(1))_3</title>\r\n<ellipse fill=\"none\" stroke=\"black\" cx=\"91.6419\" cy=\"-162\" rx=\"48.9926\" ry=\"18\"/>\r\n<text text-anchor=\"middle\" x=\"91.6419\" y=\"-158.3\" font-family=\"Times New Roman,serif\" font-size=\"14.00\">N(V(1))_3</text>\r\n</g>\r\n<!-- N(V(1))_3&#45;&#45;N(V(0))_2 -->\r\n<g id=\"edge2\" class=\"edge\"><title>N(V(1))_3&#45;&#45;N(V(0))_2</title>\r\n<path fill=\"none\" stroke=\"black\" d=\"M91.6419,-143.697C91.6419,-132.846 91.6419,-118.917 91.6419,-108.104\"/>\r\n</g>\r\n<!-- N(O(V(0),V(1)))_4 -->\r\n<g id=\"node4\" class=\"node\"><title>N(O(V(0),V(1)))_4</title>\r\n<ellipse fill=\"none\" stroke=\"black\" cx=\"91.6419\" cy=\"-234\" rx=\"80.6858\" ry=\"18\"/>\r\n<text text-anchor=\"middle\" x=\"91.6419\" y=\"-230.3\" font-family=\"Times New Roman,serif\" font-size=\"14.00\">N(O(V(0),V(1)))_4</text>\r\n</g>\r\n<!-- N(O(V(0),V(1)))_4&#45;&#45;N(V(1))_3 -->\r\n<g id=\"edge3\" class=\"edge\"><title>N(O(V(0),V(1)))_4&#45;&#45;N(V(1))_3</title>\r\n<path fill=\"none\" stroke=\"black\" d=\"M91.6419,-215.697C91.6419,-204.846 91.6419,-190.917 91.6419,-180.104\"/>\r\n</g>\r\n</g>\r\n</svg>\r\n",
      "text/plain": [
       "<graphviz.dot.Graph at 0x170e8b15848>"
      ]
     },
     "execution_count": 38,
     "metadata": {},
     "output_type": "execute_result"
    }
   ],
   "source": [
    "S.prova([\"E(N(V(0)),N(V(1)))\"],[\"N(O(V(0),V(1)))\"],True, tempo = True)"
   ]
  },
  {
   "cell_type": "code",
   "execution_count": 39,
   "metadata": {},
   "outputs": [
    {
     "name": "stdout",
     "output_type": "stream",
     "text": [
      "tempo de execução (nao conta com o desenhar da arvor): 0.005983591079711914\n"
     ]
    },
    {
     "data": {
      "text/plain": [
       "{'V(0)': 'F',\n",
       " 'V(1)': 'F',\n",
       " 'E(V(0),V(1))': 'f',\n",
       " 'N(E(V(0),V(1)))': 't',\n",
       " 'N(V(0))': 'F',\n",
       " 'N(V(1))': 'F',\n",
       " 'O(N(V(0)),N(V(1)))': 'F'}"
      ]
     },
     "execution_count": 39,
     "metadata": {},
     "output_type": "execute_result"
    }
   ],
   "source": [
    "S.prova([\"N(E(V(0),V(1)))\"],[\"O(N(V(0)),N(V(1)))\"],True, tempo = True,contra_modelo=True)"
   ]
  },
  {
   "cell_type": "code",
   "execution_count": 40,
   "metadata": {},
   "outputs": [
    {
     "name": "stdout",
     "output_type": "stream",
     "text": [
      "0.000997304916381836\n"
     ]
    },
    {
     "data": {
      "text/plain": [
       "{'V(0)': 'F', 'V(1)': 'F'}"
      ]
     },
     "execution_count": 40,
     "metadata": {},
     "output_type": "execute_result"
    }
   ],
   "source": [
    "S.prova_semantica([\"N(E(V(0),V(1)))\"],[\"O(N(V(0)),N(V(1)))\"],True, tempo = True)"
   ]
  },
  {
   "cell_type": "markdown",
   "metadata": {},
   "source": [
    "Notice how, in this previous example, the valuation gives to the formula \"E(V(0),V(1))\", when V(0) = F and V(1) = F, \"E(V(0),V(1))\" could be f or F."
   ]
  },
  {
   "cell_type": "code",
   "execution_count": 41,
   "metadata": {
    "scrolled": false
   },
   "outputs": [
    {
     "name": "stdout",
     "output_type": "stream",
     "text": [
      "tempo de execução (nao conta com o desenhar da arvor): 0.007978200912475586\n"
     ]
    },
    {
     "data": {
      "image/svg+xml": "<?xml version=\"1.0\" encoding=\"UTF-8\" standalone=\"no\"?>\r\n<!DOCTYPE svg PUBLIC \"-//W3C//DTD SVG 1.1//EN\"\r\n \"http://www.w3.org/Graphics/SVG/1.1/DTD/svg11.dtd\">\r\n<!-- Generated by graphviz version 2.38.0 (20140413.2041)\r\n -->\r\n<!-- Title: %3 Pages: 1 -->\r\n<svg width=\"393pt\" height=\"260pt\"\r\n viewBox=\"0.00 0.00 392.77 260.00\" xmlns=\"http://www.w3.org/2000/svg\" xmlns:xlink=\"http://www.w3.org/1999/xlink\">\r\n<g id=\"graph0\" class=\"graph\" transform=\"scale(1 1) rotate(0) translate(4 256)\">\r\n<title>%3</title>\r\n<polygon fill=\"white\" stroke=\"none\" points=\"-4,4 -4,-256 388.766,-256 388.766,4 -4,4\"/>\r\n<!-- [&#39;V(0)&#39;] -->\r\n<g id=\"node1\" class=\"node\"><title>[&#39;V(0)&#39;]</title>\r\n<ellipse fill=\"none\" stroke=\"black\" cx=\"192.383\" cy=\"-18\" rx=\"37.0935\" ry=\"18\"/>\r\n<text text-anchor=\"middle\" x=\"192.383\" y=\"-14.3\" font-family=\"Times New Roman,serif\" font-size=\"14.00\">[&#39;V(0)&#39;]</text>\r\n</g>\r\n<!-- O(V(1),V(0))_2 -->\r\n<g id=\"node2\" class=\"node\"><title>O(V(1),V(0))_2</title>\r\n<ellipse fill=\"none\" stroke=\"black\" cx=\"192.383\" cy=\"-90\" rx=\"68.4888\" ry=\"18\"/>\r\n<text text-anchor=\"middle\" x=\"192.383\" y=\"-86.3\" font-family=\"Times New Roman,serif\" font-size=\"14.00\">O(V(1),V(0))_2</text>\r\n</g>\r\n<!-- O(V(1),V(0))_2&#45;&#45;[&#39;V(0)&#39;] -->\r\n<g id=\"edge1\" class=\"edge\"><title>O(V(1),V(0))_2&#45;&#45;[&#39;V(0)&#39;]</title>\r\n<path fill=\"none\" stroke=\"black\" d=\"M192.383,-71.6966C192.383,-60.8463 192.383,-46.9167 192.383,-36.1043\"/>\r\n</g>\r\n<!-- O(O(V(1),V(0)),E(V(1),V(2)))_3 -->\r\n<g id=\"node3\" class=\"node\"><title>O(O(V(1),V(0)),E(V(1),V(2)))_3</title>\r\n<ellipse fill=\"none\" stroke=\"black\" cx=\"192.383\" cy=\"-162\" rx=\"129.977\" ry=\"18\"/>\r\n<text text-anchor=\"middle\" x=\"192.383\" y=\"-158.3\" font-family=\"Times New Roman,serif\" font-size=\"14.00\">O(O(V(1),V(0)),E(V(1),V(2)))_3</text>\r\n</g>\r\n<!-- O(O(V(1),V(0)),E(V(1),V(2)))_3&#45;&#45;O(V(1),V(0))_2 -->\r\n<g id=\"edge2\" class=\"edge\"><title>O(O(V(1),V(0)),E(V(1),V(2)))_3&#45;&#45;O(V(1),V(0))_2</title>\r\n<path fill=\"none\" stroke=\"black\" d=\"M192.383,-143.697C192.383,-132.846 192.383,-118.917 192.383,-108.104\"/>\r\n</g>\r\n<!-- O(O(O(V(1),V(0)),E(V(1),V(2))),E(V(2),V(0)))_4 -->\r\n<g id=\"node4\" class=\"node\"><title>O(O(O(V(1),V(0)),E(V(1),V(2))),E(V(2),V(0)))_4</title>\r\n<ellipse fill=\"none\" stroke=\"black\" cx=\"192.383\" cy=\"-234\" rx=\"192.266\" ry=\"18\"/>\r\n<text text-anchor=\"middle\" x=\"192.383\" y=\"-230.3\" font-family=\"Times New Roman,serif\" font-size=\"14.00\">O(O(O(V(1),V(0)),E(V(1),V(2))),E(V(2),V(0)))_4</text>\r\n</g>\r\n<!-- O(O(O(V(1),V(0)),E(V(1),V(2))),E(V(2),V(0)))_4&#45;&#45;O(O(V(1),V(0)),E(V(1),V(2)))_3 -->\r\n<g id=\"edge3\" class=\"edge\"><title>O(O(O(V(1),V(0)),E(V(1),V(2))),E(V(2),V(0)))_4&#45;&#45;O(O(V(1),V(0)),E(V(1),V(2)))_3</title>\r\n<path fill=\"none\" stroke=\"black\" d=\"M192.383,-215.697C192.383,-204.846 192.383,-190.917 192.383,-180.104\"/>\r\n</g>\r\n</g>\r\n</svg>\r\n",
      "text/plain": [
       "<graphviz.dot.Graph at 0x170e8c02ec8>"
      ]
     },
     "execution_count": 41,
     "metadata": {},
     "output_type": "execute_result"
    }
   ],
   "source": [
    "S.prova([\"V(0)\"],[\"O(O(O(V(1),V(0)),E(V(1),V(2))),E(V(2),V(0)))\"],True, tempo = True)"
   ]
  },
  {
   "cell_type": "code",
   "execution_count": 42,
   "metadata": {},
   "outputs": [
    {
     "name": "stdout",
     "output_type": "stream",
     "text": [
      "tempo de execução (nao conta com o desenhar da arvor): 0.023967266082763672\n"
     ]
    },
    {
     "data": {
      "text/plain": [
       "{'V(0)': 'F',\n",
       " 'V(1)': 'F',\n",
       " 'E(V(0),V(1))': 'F',\n",
       " 'V(2)': 'F',\n",
       " 'N(V(2))': 'F',\n",
       " 'O(N(V(2)),V(1))': 'F',\n",
       " 'O(E(V(0),V(1)),O(N(V(2)),V(1)))': 't',\n",
       " 'N(V(0))': 'F',\n",
       " 'N(V(1))': 'F',\n",
       " 'O(N(V(0)),N(V(1)))': 'F',\n",
       " 'O(V(2),N(V(1)))': 'F',\n",
       " 'N(O(V(2),N(V(1))))': 'F',\n",
       " 'E(V(2),N(O(V(2),N(V(1)))))': 'F'}"
      ]
     },
     "execution_count": 42,
     "metadata": {},
     "output_type": "execute_result"
    }
   ],
   "source": [
    "S.prova([\"O(E(V(0),V(1)),O(N(V(2)),V(1)))\"],[\"O(N(V(0)),N(V(1)))\",\"E(V(2),N(O(V(2),N(V(1)))))\"],True, tempo = True,contra_modelo=True)"
   ]
  },
  {
   "cell_type": "code",
   "execution_count": 43,
   "metadata": {},
   "outputs": [
    {
     "name": "stdout",
     "output_type": "stream",
     "text": [
      "0.0009970664978027344\n"
     ]
    },
    {
     "data": {
      "text/plain": [
       "{'V(0)': 'f', 'V(1)': 'f', 'V(2)': 'f'}"
      ]
     },
     "execution_count": 43,
     "metadata": {},
     "output_type": "execute_result"
    }
   ],
   "source": [
    "S.prova_semantica([\"O(E(V(0),V(1)),O(N(V(2)),V(1)))\"],[\"O(N(V(0)),N(V(1)))\",\"E(V(2),N(O(V(2),N(V(1)))))\"],True, tempo = True)"
   ]
  },
  {
   "cell_type": "code",
   "execution_count": null,
   "metadata": {},
   "outputs": [],
   "source": []
  },
  {
   "cell_type": "code",
   "execution_count": 35,
   "metadata": {},
   "outputs": [],
   "source": [
    "conjuntos_a_analisar = []"
   ]
  },
  {
   "cell_type": "code",
   "execution_count": 36,
   "metadata": {},
   "outputs": [],
   "source": [
    "conjuntos_explorados = []"
   ]
  },
  {
   "cell_type": "code",
   "execution_count": 37,
   "metadata": {},
   "outputs": [],
   "source": [
    "def funcao_1(R1,R2,simbolos,separador,empty_set = False):\n",
    "    #R1 e R2 sao conjuntos de regras. queremos verificar se, a partir de R1, conseguimos derivar todas as regras de R2\n",
    "    \n",
    "    #vamos entao criar a lógica criada pelo conjunto de regras R1\n",
    "    \n",
    "    logi = logica(simbolos,separador)\n",
    "    \n",
    "    for r in R1:\n",
    "        logi.adiciona_regra_inferencia(r[0],r[1],r[2])\n",
    "        \n",
    "    #agora podemos começar a verificar se, a partir desta logica, conseguimos derivar cada regra em R2\n",
    "    \n",
    "    w = True\n",
    "    \n",
    "    for r in R2:#para cada regra em R2\n",
    "        if w:\n",
    "            if logi.prova(r[0],r[1],False,True,empty_set):\n",
    "                #verificar se as suas premissas derivam alguma das suas conclusoes\n",
    "                pass\n",
    "\n",
    "            else:\n",
    "                #caso contrario... entao R1 não deriva tudo o que R2 consegue derivar.\n",
    "                w = False\n",
    "    \n",
    "    return w"
   ]
  },
  {
   "cell_type": "code",
   "execution_count": 38,
   "metadata": {},
   "outputs": [],
   "source": [
    "def funcao_2(R,simbolos,separador,empty_set = False):\n",
    "    start = time.time()\n",
    "    global conjuntos_explorados\n",
    "    global conjuntos_a_analisar\n",
    "    \n",
    "    #R é um conjunto de regras\n",
    "    \n",
    "    #queremos verificar se existe algum subconjunto de regras de R que derive todas as regras de R\n",
    "    \n",
    "    #a ideia é: vamos ao conjunto de regras que temos, fazer os subconjuntos que resultam de tirar uma regra\n",
    "    \n",
    "    #desses, vamos ver os que derivam R\n",
    "    \n",
    "    #desses, vamos repetir o processo, ou seja, fazer todos os subonjuntos que resultam de tirar uma regra e derivam o \n",
    "    #conjunto \"pai\"\n",
    "    resposta = []\n",
    "    \n",
    "    conjunto_pai = R\n",
    "    print(len(conjunto_pai))\n",
    "\n",
    "    conjuntos_a_analisar = unique(conjuntos_a_analisar + [conjunto_pai])\n",
    "        \n",
    "    possiveis_respostas = [[i for i in conjunto_pai if i!=j] for j in conjunto_pai]\n",
    "#possiveis_respostas é uma lista com todos os conjuntos filhos. conjuntos que resultam do conjunto_pai retirando-lhe 1 elemento\n",
    "    \n",
    "    random.shuffle(possiveis_respostas)\n",
    "#fazemos um random shuffle, porque senão ele começa sempre por analisar retirar as regras iniciais... se quisermos isso\n",
    "#não fazemos suffle, mas imaginando que as regras estão distribuidas aleatoriamente... então faz sentido não dar\n",
    "#prioridade a nenhuma.\n",
    "    \n",
    "    \n",
    "    for r in possiveis_respostas:\n",
    "        if r not in conjuntos_explorados:\n",
    "        #se ele estiver em conjuntos_explorados é porque já foi analisado, e podemos ignora-lo, evitando repetições.\n",
    "        \n",
    "            if funcao_1(r, conjunto_pai,simbolos,separador,empty_set):\n",
    "                #se este conjunto deriva o conjunto pai... então vamos chamar recursivamente esta função.\n",
    "                resposta += funcao_2(r,simbolos,separador,empty_set)\n",
    "\n",
    "    if resposta == []:\n",
    "#no caso em que nenhum filho deriva o pai, então devolvemos o conjunto pai, visto que ele é um possivel conjunto para dereivar R\n",
    "        resposta = [ conjunto_pai ]\n",
    "    \n",
    "    for i in resposta:\n",
    "        conjuntos_explorados += [ i ]\n",
    "    \n",
    "    conjuntos_explorados = unique(conjuntos_explorados)\n",
    "    end = time.time()\n",
    "    print(\"tempo de execução: \" + str(end-start))\n",
    "    return unique(resposta)\n",
    "            "
   ]
  },
  {
   "cell_type": "code",
   "execution_count": null,
   "metadata": {},
   "outputs": [],
   "source": []
  },
  {
   "cell_type": "code",
   "execution_count": 43,
   "metadata": {},
   "outputs": [],
   "source": [
    "def prova_SAT(nome, limite):\n",
    "    #esta função faz os problemas SAT do site https://www.cs.ubc.ca/~hoos/SATLIB/benchm.html\n",
    "    #este ciclo serve apenas para transformar a notação do ficheiro na notação usada para o programa.\n",
    "    a = open(nome,\"r\")\n",
    "    w = True\n",
    "    gama = []\n",
    "    b = \"\"\n",
    "    while len(b) != 1:\n",
    "\n",
    "        b = a.readline()\n",
    "        if len(gama)<=limite:\n",
    "            if b[0] == \"c\" or b[0] == \"p\" or b[0] == \"%\" or b[0] == \"0\" or len(b)==1:\n",
    "                pass\n",
    "            else:\n",
    "                variaveis = []\n",
    "                var = \"\"\n",
    "                for i in b:\n",
    "\n",
    "                    if i == \" \": #or i == \"0\":\n",
    "                        if var != \"\":\n",
    "                            variaveis += [var]\n",
    "                        var = \"\"\n",
    "                    elif i == \"0\" and var == \"\":\n",
    "                        pass\n",
    "                    else:\n",
    "                        var += i\n",
    "\n",
    "                for i in range(len(variaveis)):\n",
    "                    if variaveis[i][0] == \"-\":\n",
    "                        variaveis[i] = \"N(V(\"+variaveis[i][1:]+\"))\"\n",
    "\n",
    "                    else:\n",
    "                        variaveis[i] = \"V(\"+variaveis[i]+\")\"\n",
    "\n",
    "                formula = \"O(O(\"+variaveis[0]+\",\"+variaveis[1]+\"),\"+variaveis[2]+\")\"\n",
    "\n",
    "                gama += [ formula ]\n",
    "    \n",
    "    print(gama)\n",
    "            \n",
    "    return CH.prova(gama,[],tempo = True, contra_modelo = True)"
   ]
  },
  {
   "cell_type": "code",
   "execution_count": 46,
   "metadata": {},
   "outputs": [
    {
     "name": "stdout",
     "output_type": "stream",
     "text": [
      "['O(O(V(4),N(V(18))),V(19))', 'O(O(V(3),V(18)),N(V(5)))', 'O(O(N(V(5)),N(V(8))),N(V(15)))', 'O(O(N(V(20)),V(7)),N(V(16)))', 'O(O(V(10),N(V(13))),N(V(7)))', 'O(O(N(V(12)),N(V(9))),V(17))', 'O(O(V(17),V(19)),V(5))', 'O(O(N(V(16)),V(9)),V(15))', 'O(O(V(11),N(V(5))),N(V(14)))', 'O(O(V(18),N(V(10))),V(13))', 'O(O(N(V(3)),V(11)),V(12))', 'O(O(N(V(6)),N(V(17))),N(V(8)))', 'O(O(N(V(18)),V(14)),V(1))', 'O(O(N(V(19)),N(V(15))),V(10))', 'O(O(V(12),V(18)),N(V(19)))', 'O(O(N(V(8)),V(4)),V(7))', 'O(O(N(V(8)),N(V(9))),V(4))', 'O(O(V(7),V(17)),N(V(15)))', 'O(O(V(12),N(V(7))),N(V(14)))', 'O(O(N(V(10)),N(V(11))),V(8))', 'O(O(V(2),N(V(15))),N(V(11)))', 'O(O(V(9),V(6)),V(1))', 'O(O(N(V(11)),V(20)),N(V(17)))', 'O(O(V(9),N(V(15))),V(13))', 'O(O(V(12),N(V(7))),N(V(17)))', 'O(O(N(V(18)),N(V(2))),V(20))', 'O(O(V(20),V(12)),V(4))', 'O(O(V(19),V(11)),V(14))', 'O(O(N(V(16)),V(18)),N(V(4)))', 'O(O(N(V(1)),N(V(17))),N(V(19)))', 'O(O(N(V(13)),V(15)),V(10))']\n",
      "tempo de execução (nao conta com o desenhar da arvor): 170.96844458580017\n"
     ]
    },
    {
     "data": {
      "text/plain": [
       "{'V(4)': 't',\n",
       " 'V(18)': 't',\n",
       " 'N(V(18))': 'f',\n",
       " 'O(V(4),N(V(18)))': 't',\n",
       " 'V(19)': 't',\n",
       " 'O(O(V(4),N(V(18))),V(19))': 't',\n",
       " 'V(3)': 't',\n",
       " 'O(V(3),V(18))': 't',\n",
       " 'V(5)': 't',\n",
       " 'N(V(5))': 'f',\n",
       " 'O(O(V(3),V(18)),N(V(5)))': 't',\n",
       " 'V(8)': 't',\n",
       " 'N(V(8))': 'f',\n",
       " 'O(N(V(5)),N(V(8)))': 'f',\n",
       " 'V(15)': 'f',\n",
       " 'N(V(15))': 't',\n",
       " 'O(O(N(V(5)),N(V(8))),N(V(15)))': 't',\n",
       " 'V(20)': 't',\n",
       " 'N(V(20))': 'f',\n",
       " 'V(7)': 't',\n",
       " 'O(N(V(20)),V(7))': 't',\n",
       " 'V(16)': 't',\n",
       " 'N(V(16))': 'f',\n",
       " 'O(O(N(V(20)),V(7)),N(V(16)))': 't',\n",
       " 'V(10)': 't',\n",
       " 'V(13)': 't',\n",
       " 'N(V(13))': 'f',\n",
       " 'O(V(10),N(V(13)))': 't',\n",
       " 'N(V(7))': 'f',\n",
       " 'O(O(V(10),N(V(13))),N(V(7)))': 't',\n",
       " 'V(12)': 't',\n",
       " 'N(V(12))': 'f',\n",
       " 'V(9)': 't',\n",
       " 'N(V(9))': 'f',\n",
       " 'O(N(V(12)),N(V(9)))': 'f',\n",
       " 'V(17)': 't',\n",
       " 'O(O(N(V(12)),N(V(9))),V(17))': 't',\n",
       " 'O(V(17),V(19))': 't',\n",
       " 'O(O(V(17),V(19)),V(5))': 't',\n",
       " 'O(N(V(16)),V(9))': 't',\n",
       " 'O(O(N(V(16)),V(9)),V(15))': 't',\n",
       " 'V(11)': 't',\n",
       " 'O(V(11),N(V(5)))': 't',\n",
       " 'V(14)': 't',\n",
       " 'N(V(14))': 'f',\n",
       " 'O(O(V(11),N(V(5))),N(V(14)))': 't',\n",
       " 'N(V(10))': 'f',\n",
       " 'O(V(18),N(V(10)))': 't',\n",
       " 'O(O(V(18),N(V(10))),V(13))': 't',\n",
       " 'N(V(3))': 'f',\n",
       " 'O(N(V(3)),V(11))': 't',\n",
       " 'O(O(N(V(3)),V(11)),V(12))': 't',\n",
       " 'V(6)': 'f',\n",
       " 'N(V(6))': 't',\n",
       " 'N(V(17))': 'f',\n",
       " 'O(N(V(6)),N(V(17)))': 't',\n",
       " 'O(O(N(V(6)),N(V(17))),N(V(8)))': 't',\n",
       " 'O(N(V(18)),V(14))': 't',\n",
       " 'V(1)': 'f',\n",
       " 'O(O(N(V(18)),V(14)),V(1))': 't',\n",
       " 'N(V(19))': 'f',\n",
       " 'O(N(V(19)),N(V(15)))': 't',\n",
       " 'O(O(N(V(19)),N(V(15))),V(10))': 't',\n",
       " 'O(V(12),V(18))': 't',\n",
       " 'O(O(V(12),V(18)),N(V(19)))': 't',\n",
       " 'O(N(V(8)),V(4))': 't',\n",
       " 'O(O(N(V(8)),V(4)),V(7))': 't',\n",
       " 'O(N(V(8)),N(V(9)))': 'f',\n",
       " 'O(O(N(V(8)),N(V(9))),V(4))': 't',\n",
       " 'O(V(7),V(17))': 't',\n",
       " 'O(O(V(7),V(17)),N(V(15)))': 't',\n",
       " 'O(V(12),N(V(7)))': 't',\n",
       " 'O(O(V(12),N(V(7))),N(V(14)))': 't',\n",
       " 'N(V(11))': 'f',\n",
       " 'O(N(V(10)),N(V(11)))': 'f',\n",
       " 'O(O(N(V(10)),N(V(11))),V(8))': 't',\n",
       " 'V(2)': 't',\n",
       " 'O(V(2),N(V(15)))': 't',\n",
       " 'O(O(V(2),N(V(15))),N(V(11)))': 't',\n",
       " 'O(V(9),V(6))': 't',\n",
       " 'O(O(V(9),V(6)),V(1))': 't',\n",
       " 'O(N(V(11)),V(20))': 't',\n",
       " 'O(O(N(V(11)),V(20)),N(V(17)))': 't',\n",
       " 'O(V(9),N(V(15)))': 't',\n",
       " 'O(O(V(9),N(V(15))),V(13))': 't',\n",
       " 'O(O(V(12),N(V(7))),N(V(17)))': 't',\n",
       " 'N(V(2))': 'f',\n",
       " 'O(N(V(18)),N(V(2)))': 'f',\n",
       " 'O(O(N(V(18)),N(V(2))),V(20))': 't',\n",
       " 'O(V(20),V(12))': 't',\n",
       " 'O(O(V(20),V(12)),V(4))': 't',\n",
       " 'O(V(19),V(11))': 't',\n",
       " 'O(O(V(19),V(11)),V(14))': 't',\n",
       " 'O(N(V(16)),V(18))': 't',\n",
       " 'N(V(4))': 'f',\n",
       " 'O(O(N(V(16)),V(18)),N(V(4)))': 't',\n",
       " 'N(V(1))': 't',\n",
       " 'O(N(V(1)),N(V(17)))': 't',\n",
       " 'O(O(N(V(1)),N(V(17))),N(V(19)))': 't',\n",
       " 'O(N(V(13)),V(15))': 'f',\n",
       " 'O(O(N(V(13)),V(15)),V(10))': 't'}"
      ]
     },
     "execution_count": 46,
     "metadata": {},
     "output_type": "execute_result"
    }
   ],
   "source": [
    "prova_SAT(\"uf20-01.cnf\",30)"
   ]
  },
  {
   "cell_type": "code",
   "execution_count": null,
   "metadata": {},
   "outputs": [],
   "source": []
  }
 ],
 "metadata": {
  "kernelspec": {
   "display_name": "Python 3",
   "language": "python",
   "name": "python3"
  },
  "language_info": {
   "codemirror_mode": {
    "name": "ipython",
    "version": 3
   },
   "file_extension": ".py",
   "mimetype": "text/x-python",
   "name": "python",
   "nbconvert_exporter": "python",
   "pygments_lexer": "ipython3",
   "version": "3.7.4"
  }
 },
 "nbformat": 4,
 "nbformat_minor": 2
}
